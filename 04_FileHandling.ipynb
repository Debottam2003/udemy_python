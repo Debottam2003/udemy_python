{
 "cells": [
  {
   "cell_type": "code",
   "execution_count": null,
   "id": "c8800bff",
   "metadata": {},
   "outputs": [
    {
     "name": "stdout",
     "output_type": "stream",
     "text": [
      "[\n",
      "    {\n",
      "        \"id\": 1,\n",
      "        \"name\": \"Alice Johnson\",\n",
      "        \"email\": \"alice.johnson@example.com\",\n",
      "        \"age\": 28,\n",
      "        \"is_active\": true\n",
      "    },\n",
      "    {\n",
      "        \"id\": 2,\n",
      "        \"name\": \"Bob Smith\",\n",
      "        \"email\": \"bob.smith@example.com\",\n",
      "        \"age\": 34,\n",
      "        \"is_active\": false\n",
      "    },\n",
      "    {\n",
      "        \"id\": 3,\n",
      "        \"name\": \"Charlie Lee\",\n",
      "        \"email\": \"charlie.lee@example.com\",\n",
      "        \"age\": 22,\n",
      "        \"is_active\": true\n",
      "    }\n",
      "] \n"
     ]
    }
   ],
   "source": [
    "# File Read\n",
    "file = open(\"json.json\", 'r')\n",
    "data = file.read()\n",
    "# line = file.readline()\n",
    "print(data, line)\n",
    "file.close()"
   ]
  },
  {
   "cell_type": "code",
   "execution_count": 21,
   "id": "707d3bf7",
   "metadata": {},
   "outputs": [],
   "source": [
    "# File Write and Append\n",
    "file = open(\"text1.txt\", 'a')\n",
    "file.write(\"\\nhello debottam\")\n",
    "file.close()"
   ]
  },
  {
   "cell_type": "code",
   "execution_count": null,
   "id": "d9346d83",
   "metadata": {},
   "outputs": [],
   "source": [
    "# Delete File\n",
    "import os\n",
    "file = open(\"text.txt\")\n",
    "file.close()\n",
    "os.remove(\"text.txt\")"
   ]
  }
 ],
 "metadata": {
  "kernelspec": {
   "display_name": "Python 3",
   "language": "python",
   "name": "python3"
  },
  "language_info": {
   "codemirror_mode": {
    "name": "ipython",
    "version": 3
   },
   "file_extension": ".py",
   "mimetype": "text/x-python",
   "name": "python",
   "nbconvert_exporter": "python",
   "pygments_lexer": "ipython3",
   "version": "3.12.10"
  }
 },
 "nbformat": 4,
 "nbformat_minor": 5
}
