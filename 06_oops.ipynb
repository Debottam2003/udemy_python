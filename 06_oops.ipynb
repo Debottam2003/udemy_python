{
 "cells": [
  {
   "cell_type": "code",
   "execution_count": null,
   "id": "579ab134",
   "metadata": {},
   "outputs": [
    {
     "name": "stdout",
     "output_type": "stream",
     "text": [
      "debottam, 1\n"
     ]
    }
   ],
   "source": [
    "class car:\n",
    "    def __init__(self, name, roll):\n",
    "        self.name = name\n",
    "        self.roll = roll\n",
    "    def __str__(self):\n",
    "        return f\"{self.name}, {self.roll}\"\n",
    "if __name__ == \"__main__\":\n",
    "    c1 = car(\"debottam\", 1)\n",
    "    print(c1)\n"
   ]
  },
  {
   "cell_type": "code",
   "execution_count": 2,
   "id": "cda84bcb",
   "metadata": {},
   "outputs": [
    {
     "name": "stdout",
     "output_type": "stream",
     "text": [
      "Animal created\n",
      "Dog created\n",
      "The animal is running\n",
      "The doggu is running so fast\n"
     ]
    }
   ],
   "source": [
    "class Animal:\n",
    "    def __init__(self, name):\n",
    "        self.name = name\n",
    "        print(\"Animal created\")\n",
    "    \n",
    "    def run(self):\n",
    "        print(\"The animal is running\")\n",
    "\n",
    "class Dog(Animal):\n",
    "    def __init__(self, name, breed):\n",
    "        # Call the parent constructor\n",
    "        super().__init__(name)\n",
    "        self.breed = breed\n",
    "        print(\"Dog created\")\n",
    "    def run(self):\n",
    "        super().run()  # Call the parent run method\n",
    "        print(\"The doggu is running so fast\")\n",
    "\n",
    "dog = Dog(\"Buddy\", \"Golden Retriever\")\n",
    "dog.run()"
   ]
  }
 ],
 "metadata": {
  "kernelspec": {
   "display_name": "Python 3",
   "language": "python",
   "name": "python3"
  },
  "language_info": {
   "codemirror_mode": {
    "name": "ipython",
    "version": 3
   },
   "file_extension": ".py",
   "mimetype": "text/x-python",
   "name": "python",
   "nbconvert_exporter": "python",
   "pygments_lexer": "ipython3",
   "version": "3.12.10"
  }
 },
 "nbformat": 4,
 "nbformat_minor": 5
}
