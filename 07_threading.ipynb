{
 "cells": [
  {
   "cell_type": "code",
   "execution_count": 7,
   "id": "19984c42",
   "metadata": {},
   "outputs": [
    {
     "name": "stdout",
     "output_type": "stream",
     "text": [
      "this is the function3\n",
      "chup chap kapra saff\n",
      "this is the function2\n",
      "this is the function1\n",
      "hello world\n"
     ]
    }
   ],
   "source": [
    "import threading\n",
    "import time\n",
    "\n",
    "def func1():\n",
    "    time.sleep(3)\n",
    "    print(\"this is the function1\")\n",
    "def func2():\n",
    "    time.sleep(2)\n",
    "    print(\"this is the function2\")\n",
    "def func3(s):\n",
    "    time.sleep(1)\n",
    "    print(\"this is the function3\")\n",
    "    print(s)\n",
    "\n",
    "t1 = threading.Thread(target=func1)\n",
    "t1.start()\n",
    "\n",
    "t2 = threading.Thread(target=func2)\n",
    "t2.start()\n",
    "\n",
    "t3 = threading.Thread(target=func3, args=(\"chup chap kapra saff\",))\n",
    "t3.start()\n",
    "\n",
    "t1.join()\n",
    "t2.join()\n",
    "t3.join()\n",
    "\n",
    "print(\"hello world\")\n",
    "\n",
    "# func1()\n",
    "# func2()\n",
    "# func3()"
   ]
  }
 ],
 "metadata": {
  "kernelspec": {
   "display_name": "Python 3",
   "language": "python",
   "name": "python3"
  },
  "language_info": {
   "codemirror_mode": {
    "name": "ipython",
    "version": 3
   },
   "file_extension": ".py",
   "mimetype": "text/x-python",
   "name": "python",
   "nbconvert_exporter": "python",
   "pygments_lexer": "ipython3",
   "version": "3.12.10"
  }
 },
 "nbformat": 4,
 "nbformat_minor": 5
}
