{
 "cells": [
  {
   "cell_type": "code",
   "execution_count": null,
   "id": "299dab6a",
   "metadata": {},
   "outputs": [],
   "source": []
  },
  {
   "cell_type": "code",
   "execution_count": 1,
   "id": "fde4d78e",
   "metadata": {},
   "outputs": [
    {
     "name": "stdout",
     "output_type": "stream",
     "text": [
      "This is a python file named m1py under module1\n",
      "Let's learn all about function\n",
      "debottam\n",
      "Hello from module/m1py\n",
      "{'body': 'this is the request body'}\n",
      "hello from debottam.\n"
     ]
    }
   ],
   "source": [
    "# from module1.m1py import do\n",
    "from m1py import do\n",
    "print(\"Let's learn all about function\")\n",
    "name = \"debottam\"\n",
    "def printName(name):\n",
    "    print(name)\n",
    "\n",
    "# decorator function\n",
    "def my_decorator(function):\n",
    "    req = {\"body\": \"this is the request body\"}\n",
    "    def say_hello():\n",
    "        print(req)\n",
    "        function()\n",
    "    return say_hello\n",
    "\n",
    "if __name__ == \"__main__\":\n",
    "    printName(name)\n",
    "    do()\n",
    "    @my_decorator #say_hello = my_decorator(say_hello)\n",
    "    def say_hello():\n",
    "        print(\"hello from debottam.\")\n",
    "    say_hello()"
   ]
  }
 ],
 "metadata": {
  "kernelspec": {
   "display_name": "Python 3",
   "language": "python",
   "name": "python3"
  },
  "language_info": {
   "codemirror_mode": {
    "name": "ipython",
    "version": 3
   },
   "file_extension": ".py",
   "mimetype": "text/x-python",
   "name": "python",
   "nbconvert_exporter": "python",
   "pygments_lexer": "ipython3",
   "version": "3.12.10"
  }
 },
 "nbformat": 4,
 "nbformat_minor": 5
}
