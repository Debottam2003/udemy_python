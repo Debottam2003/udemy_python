{
 "cells": [
  {
   "cell_type": "code",
   "execution_count": 3,
   "id": "57f6c85c",
   "metadata": {
    "jupyter": {
     "is_executing": true
    }
   },
   "outputs": [
    {
     "name": "stdout",
     "output_type": "stream",
     "text": [
      "hello world\n"
     ]
    }
   ],
   "source": [
    "print(\"hello world\")"
   ]
  },
  {
   "cell_type": "code",
   "execution_count": 4,
   "id": "88a0b933",
   "metadata": {},
   "outputs": [
    {
     "name": "stdout",
     "output_type": "stream",
     "text": [
      "Debottam Kar 22 8.148 [1, 3, 4] (1, 2, 3) {8, 5, 7} {'name': 'Debottam Kar', 'age': 22, 'marks': 8.148} (3+4j) range(0, 10) 9\n"
     ]
    }
   ],
   "source": [
    "# Data Types\n",
    "name = \"Debottam Kar\" # String\n",
    "age = 22 # Integer\n",
    "marks = 8.148 # Float\n",
    "student = True # Boolean\n",
    "ls = [1, 3, 4] # List\n",
    "tup = (1, 2, 3) # Tuple\n",
    "st = {5, 7, 8} # Set\n",
    "user = { \"name\": name, \"age\": age, \"marks\": marks } # Dictionary\n",
    "comp = 3 + 4j # Complex Number \n",
    "r = range(10) # Range\n",
    "print(name, age, marks, ls, tup, st, user, comp, r, r[9])\n",
    "# Pass by value: int str float bool tuple\n",
    "# Pass by reference: list dict set"
   ]
  },
  {
   "cell_type": "code",
   "execution_count": 5,
   "id": "b7c0f447",
   "metadata": {},
   "outputs": [
    {
     "name": "stdout",
     "output_type": "stream",
     "text": [
      "<class 'str'>\n",
      "<class 'int'>\n",
      "<class 'float'>\n",
      "<class 'bool'>\n"
     ]
    }
   ],
   "source": [
    "name = \"Debottam Kar\" # String\n",
    "age = 22 # Integer\n",
    "marks = 8.148 # Float\n",
    "student = True # Boolean\n",
    "print(type(name))\n",
    "print(type(age))\n",
    "print(type(marks))\n",
    "print(type(student))"
   ]
  },
  {
   "cell_type": "code",
   "execution_count": 6,
   "id": "ea7e2a11",
   "metadata": {},
   "outputs": [
    {
     "name": "stdout",
     "output_type": "stream",
     "text": [
      "Hello deb\n"
     ]
    }
   ],
   "source": [
    "name = input(\"Enter your name: \")\n",
    "print(\"Hello \" + name)"
   ]
  },
  {
   "cell_type": "code",
   "execution_count": 7,
   "id": "e176e364",
   "metadata": {},
   "outputs": [
    {
     "name": "stdout",
     "output_type": "stream",
     "text": [
      "15 2 24 3.3333333333333335 3 64 3\n",
      "1\n",
      "7\n",
      "6\n",
      "-6\n",
      "10\n",
      "2\n",
      "False\n",
      "True\n",
      "False\n"
     ]
    }
   ],
   "source": [
    "# Arithmetic Operators\n",
    "num1 = 5 + 10 # Addition\n",
    "num2 = 5 - 3 # Substraction \n",
    "num3 = 6 * 4 # Multiplication\n",
    "num4 = 10 / 3 # Division\n",
    "num5 = 7 % 4 # Modulus\n",
    "num6 = 2 ** 6 # Exponentiation\n",
    "num7 = 10 // 3 # Floor division\n",
    "print(num1, num2, num3, num4, num5, num6, num7)\n",
    "\n",
    "# Bitwise Operators\n",
    "a = 5  # binary: 0101\n",
    "b = 3  # binary: 0011\n",
    "print(a & b)   # Bitwise And: 1\n",
    "print(a | b)   # Bitwise Or: 7\n",
    "print(a ^ b)   # Bitwise XOR: 6\n",
    "print(~a)      # Bitwise NOT: -6\n",
    "print(a << 1)  # Left Shift: 10\n",
    "print(a >> 1)  # Right Shift: 2\n",
    "\n",
    "# Logical Operators\n",
    "x = True\n",
    "y = False\n",
    "print(x and y)  # Logical AND: False\n",
    "print(x or y)   # Logical OR: True\n",
    "print(not x)    # Logical NOT: False"
   ]
  },
  {
   "cell_type": "code",
   "execution_count": 8,
   "id": "4a4b2a16",
   "metadata": {},
   "outputs": [
    {
     "name": "stdout",
     "output_type": "stream",
     "text": [
      "8 5.688717446334191 head\n"
     ]
    }
   ],
   "source": [
    "import random\n",
    "import math\n",
    "numInt = random.randint(1, 10)\n",
    "numFloat = random.random() * 10\n",
    "numChoice = random.choice([\"head\", \"tail\"])\n",
    "print(numInt, numFloat, numChoice)"
   ]
  },
  {
   "cell_type": "code",
   "execution_count": 9,
   "id": "cd50a3ed",
   "metadata": {},
   "outputs": [
    {
     "name": "stdout",
     "output_type": "stream",
     "text": [
      "96 84\n",
      "[96, 95, 91, 90, 85, 84, 99]\n",
      "[84, 85, 90, 91, 95, 96, 99]\n",
      "[84, 85, 90, 91, 95, 96]\n",
      "[84, 85, 90, 91, 95, 96, [452]]\n",
      "[84, 85, 90, 91, 95, 96, [452], 8.148]\n"
     ]
    }
   ],
   "source": [
    "marks = [96, 95, 91, 90, 85, 84]\n",
    "print(marks[0], marks[-1])\n",
    "marks.append(99)\n",
    "print(marks)\n",
    "marks.sort()\n",
    "print(marks)\n",
    "marks.remove(99)\n",
    "print(marks)\n",
    "marks.append([452])\n",
    "print(marks)\n",
    "marks.extend([8.148])\n",
    "print(marks)"
   ]
  },
  {
   "cell_type": "code",
   "execution_count": 10,
   "id": "2d415cfa",
   "metadata": {},
   "outputs": [
    {
     "name": "stdout",
     "output_type": "stream",
     "text": [
      "Do it\n"
     ]
    }
   ],
   "source": [
    "def function():\n",
    "           print(\"Do it\")\n",
    "func = function\n",
    "func()"
   ]
  },
  {
   "cell_type": "code",
   "execution_count": 11,
   "id": "4e9a0767",
   "metadata": {},
   "outputs": [
    {
     "name": "stdout",
     "output_type": "stream",
     "text": [
      "[0, 0, 0, 0, 0]\n",
      "[0, 1, 2, 3, 4]\n",
      "[0, 2, 4, 6, 8]\n",
      "[0, 3, 6, 9, 12]\n",
      "[0, 4, 8, 12, 16]\n"
     ]
    }
   ],
   "source": [
    "# Matrix\n",
    "matrix = []\n",
    "for i in range(5):\n",
    "    temp = []\n",
    "    for j in range(5):\n",
    "        temp.append(i * j)\n",
    "    matrix.append(temp)\n",
    "for i in matrix:\n",
    "    print(i)"
   ]
  },
  {
   "cell_type": "code",
   "execution_count": 12,
   "id": "0756e115",
   "metadata": {},
   "outputs": [
    {
     "name": "stdout",
     "output_type": "stream",
     "text": [
      "N9k^K3j\\Jx\n"
     ]
    }
   ],
   "source": [
    "import string\n",
    "import random\n",
    "\n",
    "# Password generator\n",
    "elements = list(string.ascii_letters + string.digits + string.punctuation)\n",
    "random.shuffle(elements)\n",
    "# print(elements)\n",
    "n = int(input(\"Enter the length of the password: \"))\n",
    "password = \"\"\n",
    "for i in range(n):\n",
    "    password += random.choice(elements)\n",
    "print(password)"
   ]
  },
  {
   "cell_type": "code",
   "execution_count": 8,
   "id": "5e9bd26e",
   "metadata": {},
   "outputs": [
    {
     "name": "stdout",
     "output_type": "stream",
     "text": [
      "{'roll': 1, 'name': 'debottam'}\n",
      "debottam\n",
      "dict_keys(['roll', 'name']) dict_values([1, 'debottam']) dict_items([('roll', 1), ('name', 'debottam')])\n"
     ]
    }
   ],
   "source": [
    "user = {\"roll\": 1}\n",
    "user[\"name\"]=  \"debottam\"\n",
    "print(user)\n",
    "print(user.get(\"name\"))\n",
    "print(user.keys(), user.values(), user.items())"
   ]
  },
  {
   "cell_type": "code",
   "execution_count": 14,
   "id": "75c607a4",
   "metadata": {},
   "outputs": [
    {
     "name": "stdout",
     "output_type": "stream",
     "text": [
      "1\n",
      "2\n",
      "3\n",
      "3\n"
     ]
    }
   ],
   "source": [
    "tupNew = (1, 2, 3)\n",
    "for i in tupNew:\n",
    "    print(i)\n",
    "print(tupNew[2])"
   ]
  }
 ],
 "metadata": {
  "kernelspec": {
   "display_name": "Python 3",
   "language": "python",
   "name": "python3"
  },
  "language_info": {
   "codemirror_mode": {
    "name": "ipython",
    "version": 3
   },
   "file_extension": ".py",
   "mimetype": "text/x-python",
   "name": "python",
   "nbconvert_exporter": "python",
   "pygments_lexer": "ipython3",
   "version": "3.12.10"
  }
 },
 "nbformat": 4,
 "nbformat_minor": 5
}
