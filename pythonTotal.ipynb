{
  "nbformat": 4,
  "nbformat_minor": 0,
  "metadata": {
    "colab": {
      "provenance": []
    },
    "kernelspec": {
      "name": "python3",
      "display_name": "Python 3"
    },
    "language_info": {
      "name": "python"
    }
  },
  "cells": [
    {
      "cell_type": "code",
      "source": [
        "def checkRecord(s):\n",
        "    list1 = []\n",
        "    for i in s:\n",
        "        list1.append(i)\n",
        "    for i in range(0,len(list1) - 2):\n",
        "        if list1[i] == \"L\" and list1[i+1] == \"L\" and list1[i+2] == 'L':\n",
        "          return False\n",
        "    if list1.count(\"A\") >= 2:\n",
        "        return False\n",
        "    return True\n",
        "checkRecord(\"PPALLLLP\")"
      ],
      "metadata": {
        "colab": {
          "base_uri": "https://localhost:8080/"
        },
        "id": "AMsLRVNcgOZO",
        "outputId": "81ffbe55-bce1-4eb0-d746-eeaf02fcfd09"
      },
      "execution_count": null,
      "outputs": [
        {
          "output_type": "execute_result",
          "data": {
            "text/plain": [
              "False"
            ]
          },
          "metadata": {},
          "execution_count": 8
        }
      ]
    },
    {
      "cell_type": "code",
      "source": [
        "#reference\n",
        "list1 = [1,2,3]\n",
        "list2 = list1\n",
        "list2.pop()\n",
        "print(list1)"
      ],
      "metadata": {
        "id": "c8usB5JjwnEt",
        "colab": {
          "base_uri": "https://localhost:8080/"
        },
        "outputId": "b55889e9-67ec-4fb5-c334-49da8ef93c86"
      },
      "execution_count": null,
      "outputs": [
        {
          "output_type": "stream",
          "name": "stdout",
          "text": [
            "[1, 2]\n"
          ]
        }
      ]
    },
    {
      "cell_type": "code",
      "source": [
        "#string\n",
        "string = '1234'\n",
        "for i in range(len(string)):\n",
        "    print(string[i])"
      ],
      "metadata": {
        "id": "Y1zcOswtw4Of",
        "colab": {
          "base_uri": "https://localhost:8080/"
        },
        "outputId": "5380fecc-384a-425b-9fd6-1c7ffe3d0f2c"
      },
      "execution_count": null,
      "outputs": [
        {
          "output_type": "stream",
          "name": "stdout",
          "text": [
            "1\n",
            "2\n",
            "3\n",
            "4\n"
          ]
        }
      ]
    },
    {
      "cell_type": "code",
      "source": [
        "print(\"hello world\")#output"
      ],
      "metadata": {
        "id": "3zZ7RoTjxkUf",
        "colab": {
          "base_uri": "https://localhost:8080/"
        },
        "outputId": "4f13dd08-49cb-4585-fbc9-f6ee3a7b381d"
      },
      "execution_count": null,
      "outputs": [
        {
          "output_type": "stream",
          "name": "stdout",
          "text": [
            "hello world\n"
          ]
        }
      ]
    },
    {
      "cell_type": "code",
      "source": [
        "print(\"debottam kar,\", \"age: 21\")\n",
        "print(5)\n",
        "print(5, 10)\n",
        "print(5 + 10)"
      ],
      "metadata": {
        "colab": {
          "base_uri": "https://localhost:8080/"
        },
        "id": "JcrllbKD4_SJ",
        "outputId": "dd6aeaa0-1844-4a71-c79a-5ac2bb61beea"
      },
      "execution_count": null,
      "outputs": [
        {
          "output_type": "stream",
          "name": "stdout",
          "text": [
            "debottam kar, age: 21\n",
            "5\n",
            "5 10\n",
            "15\n"
          ]
        }
      ]
    },
    {
      "cell_type": "code",
      "source": [
        "name = \"debottam kar\" #string\n",
        "age = 21 #integer\n",
        "cgpa = 8.345 #float\n",
        "msc = True\n",
        "x = None\n",
        "print(\"name:\", name, \"age:\", age, \"cgpa:\", cgpa, \"msc:\", msc)\n",
        "print(type(name))\n",
        "print(type(age))\n",
        "print(type(cgpa))\n",
        "print(type(msc))\n",
        "print(type(msc))\n",
        "print(type(x))"
      ],
      "metadata": {
        "colab": {
          "base_uri": "https://localhost:8080/"
        },
        "id": "7S5E5xwC54ye",
        "outputId": "438d32bf-0e69-4375-8ed5-f645bf410bd1"
      },
      "execution_count": null,
      "outputs": [
        {
          "output_type": "stream",
          "name": "stdout",
          "text": [
            "name: debottam kar age: 21 cgpa: 8.345 msc: True\n",
            "<class 'str'>\n",
            "<class 'int'>\n",
            "<class 'float'>\n",
            "<class 'bool'>\n",
            "<class 'bool'>\n",
            "<class 'NoneType'>\n"
          ]
        }
      ]
    },
    {
      "cell_type": "code",
      "source": [
        "print(\"debottam kar\", end=\" \")\n",
        "print(\"rony kar\")"
      ],
      "metadata": {
        "colab": {
          "base_uri": "https://localhost:8080/"
        },
        "id": "YMpqJ4Re6PGF",
        "outputId": "31fe86ae-f588-4fb7-b29b-0512e053f145"
      },
      "execution_count": null,
      "outputs": [
        {
          "output_type": "stream",
          "name": "stdout",
          "text": [
            "debottam kar rony kar\n"
          ]
        }
      ]
    },
    {
      "cell_type": "code",
      "source": [
        "age1 = 21\n",
        "age2 = age1\n",
        "age2 = 22\n",
        "print(age1)\n",
        "print(age2)"
      ],
      "metadata": {
        "colab": {
          "base_uri": "https://localhost:8080/"
        },
        "id": "zZiq9quQ7Ox1",
        "outputId": "5ea3a995-3559-41f8-8b1e-16733adad3ca"
      },
      "execution_count": null,
      "outputs": [
        {
          "output_type": "stream",
          "name": "stdout",
          "text": [
            "21\n",
            "22\n"
          ]
        }
      ]
    },
    {
      "cell_type": "code",
      "source": [
        "a = 2\n",
        "b = 4\n",
        "print(a, b)\n",
        "a, b = b, a\n",
        "print(a, b)\n",
        "print(a + b)\n",
        "print(a - b)\n",
        "print(a * b)\n",
        "print(a / b)\n",
        "print(a // b)\n",
        "print(a % b)\n",
        "print(a ** b)"
      ],
      "metadata": {
        "colab": {
          "base_uri": "https://localhost:8080/"
        },
        "id": "auk1gBGY7eh0",
        "outputId": "3be7598e-3441-4263-c51c-4d5016b29a69"
      },
      "execution_count": null,
      "outputs": [
        {
          "output_type": "stream",
          "name": "stdout",
          "text": [
            "2 4\n",
            "4 2\n",
            "6\n",
            "2\n",
            "8\n",
            "2.0\n",
            "2\n",
            "0\n",
            "16\n"
          ]
        }
      ]
    },
    {
      "cell_type": "code",
      "source": [
        "a,b = 2,3\n",
        "txt = \"@\"\n",
        "print(a * txt * b)\n",
        "x,y = \"2\",3\n",
        "print((x + txt) * y)"
      ],
      "metadata": {
        "colab": {
          "base_uri": "https://localhost:8080/"
        },
        "id": "1NV7t1bhGY2U",
        "outputId": "826ec98d-5193-445d-b19e-8862164399c8"
      },
      "execution_count": null,
      "outputs": [
        {
          "output_type": "stream",
          "name": "stdout",
          "text": [
            "@@@@@@\n",
            "2@2@2@\n"
          ]
        }
      ]
    },
    {
      "cell_type": "code",
      "source": [
        "print(5+2.5)\n",
        "#floor division\n",
        "print(1.5 // 3)\n",
        "print(7 // 3)\n",
        "print(7 // (-3))\n",
        "print(12 // 5)\n",
        "print(-12 // 5)"
      ],
      "metadata": {
        "colab": {
          "base_uri": "https://localhost:8080/"
        },
        "id": "krAIjPQfKyiW",
        "outputId": "c0e3e00c-22f1-4dfc-d50f-1b4dbc050429"
      },
      "execution_count": null,
      "outputs": [
        {
          "output_type": "stream",
          "name": "stdout",
          "text": [
            "7.5\n",
            "0.0\n",
            "2\n",
            "-3\n",
            "2\n",
            "-3\n"
          ]
        }
      ]
    },
    {
      "cell_type": "code",
      "source": [
        "print(5 % 2)\n",
        "print(-5 % -2)\n",
        "print(-5 % 2)\n",
        "print(5 % -2)"
      ],
      "metadata": {
        "colab": {
          "base_uri": "https://localhost:8080/"
        },
        "id": "6eh7OZq5LPiZ",
        "outputId": "e9d40408-6ade-4bf7-8066-877110e39789"
      },
      "execution_count": null,
      "outputs": [
        {
          "output_type": "stream",
          "name": "stdout",
          "text": [
            "1\n",
            "-1\n",
            "1\n",
            "-1\n"
          ]
        }
      ]
    },
    {
      "cell_type": "code",
      "source": [
        "name = input(\"enter your name: \")\n",
        "print(\"hello\", name)\n",
        "age = input(\"enter your age: \")\n",
        "print(\"your age is\", age)"
      ],
      "metadata": {
        "id": "574sTxaeTh2t",
        "colab": {
          "base_uri": "https://localhost:8080/"
        },
        "outputId": "661f53cc-5bbd-4dfa-fa3f-4df22cf982d2"
      },
      "execution_count": null,
      "outputs": [
        {
          "output_type": "stream",
          "name": "stdout",
          "text": [
            "enter your name: deb\n",
            "hello deb\n",
            "enter your age: 21\n",
            "your age is 21\n"
          ]
        }
      ]
    },
    {
      "cell_type": "code",
      "source": [
        "#if-elif-else #syntax\n",
        "age = 21\n",
        "if(age == 18):\n",
        "  print(\"Apply voter card\")\n",
        "elif(age > 18):\n",
        "  print(\"Eligible for vote\")\n",
        "else:\n",
        "  print(\"Not eligible for vote\")"
      ],
      "metadata": {
        "id": "UfIUxCtraJ6d",
        "colab": {
          "base_uri": "https://localhost:8080/"
        },
        "outputId": "9bc0a303-36ba-445b-c083-635320a7c1c4"
      },
      "execution_count": null,
      "outputs": [
        {
          "output_type": "stream",
          "name": "stdout",
          "text": [
            "Eligible for vote\n"
          ]
        }
      ]
    },
    {
      "cell_type": "code",
      "source": [
        "ligth = input(\"Light: \")\n",
        "if(ligth == \"green\"):\n",
        "  print(\"go\")\n",
        "elif(ligth == \"yellow\"):\n",
        "  print(\"attention\")\n",
        "elif(ligth == \"red\"):\n",
        "  print(\"stop\")\n",
        "else:\n",
        "  print(\"Light is broken\")"
      ],
      "metadata": {
        "colab": {
          "base_uri": "https://localhost:8080/"
        },
        "id": "EG5tjHd9adOd",
        "outputId": "a1606811-a5ab-45a0-bb5b-37051743435c"
      },
      "execution_count": null,
      "outputs": [
        {
          "output_type": "stream",
          "name": "stdout",
          "text": [
            "Light: yellow\n",
            "attention\n"
          ]
        }
      ]
    },
    {
      "cell_type": "code",
      "source": [
        "#ternary operator\n",
        "food = \"cake\"\n",
        "eat = \"yes\" if food == \"cake\" else \"no\"\n",
        "print(eat)\n",
        "print(\"yes\") if food == \"apple\" else print(\"no\")"
      ],
      "metadata": {
        "colab": {
          "base_uri": "https://localhost:8080/"
        },
        "id": "-i6odVdibXER",
        "outputId": "fa22d18a-daea-4e3a-d29c-8d0c4af0902a"
      },
      "execution_count": null,
      "outputs": [
        {
          "output_type": "stream",
          "name": "stdout",
          "text": [
            "yes\n",
            "no\n"
          ]
        }
      ]
    },
    {
      "cell_type": "code",
      "source": [
        "# var = [flase_value, true_value] [condition]\n",
        "age = 21\n",
        "vote = [\"not eligible\", \"eligible\"][age >= 18]\n",
        "print(vote)"
      ],
      "metadata": {
        "colab": {
          "base_uri": "https://localhost:8080/"
        },
        "id": "tySKOf4Hd_3e",
        "outputId": "8e00e45c-c1ad-4b6d-8294-47db9fe53b4a"
      },
      "execution_count": null,
      "outputs": [
        {
          "output_type": "stream",
          "name": "stdout",
          "text": [
            "eligible\n"
          ]
        }
      ]
    },
    {
      "cell_type": "code",
      "source": [
        "print('''\n",
        "hi\n",
        "deb\n",
        "i am rony\n",
        "''')\n",
        "print(\"hello\")\n",
        "print('hello')\n",
        "print('''hello''')"
      ],
      "metadata": {
        "colab": {
          "base_uri": "https://localhost:8080/"
        },
        "id": "e_ih18jXerww",
        "outputId": "31eac61b-7b49-4fdc-db63-984af48839fe"
      },
      "execution_count": null,
      "outputs": [
        {
          "output_type": "stream",
          "name": "stdout",
          "text": [
            "\n",
            "hi\n",
            "deb\n",
            "i am rony\n",
            "\n",
            "hello\n",
            "hello\n",
            "hello\n"
          ]
        }
      ]
    },
    {
      "cell_type": "code",
      "source": [
        "#operators\n",
        "#a + b a, b are operand and  + is arithmetic operator\n",
        "print(2 + 3)\n",
        "print(2 - 3)\n",
        "print(2 * 3)\n",
        "print(2 / 3)\n",
        "print(2 // 3)\n",
        "print(2 % 3)\n",
        "print(2 ** 3)\n",
        "#relational operator\n",
        "print(2 > 3)\n",
        "print(2 < 3)\n",
        "print(2 >= 3)\n",
        "print(2 <= 3)\n",
        "print(2 == 3)\n",
        "print(2 != 3)\n",
        "#logical operator\n",
        "print(2 > 3 and 2 < 3)\n",
        "print(2 > 3 or 2 < 3)\n",
        "print(not 2 > 3)\n",
        "#bitwise operator\n",
        "print(2 & 3)\n",
        "print(2 | 3)\n",
        "print(2 ^ 3)\n",
        "print(~2)\n",
        "print(2 << 3)\n",
        "print(2 >> 3)\n",
        "#assignment operator\n",
        "a = 2\n",
        "a += 3\n",
        "print(\"a: \", a)\n",
        "a -= 3\n",
        "print(\"a: \", a)\n",
        "a *= 3\n",
        "print(\"a: \", a)\n",
        "a /= 3\n",
        "print(\"a: \", a)\n",
        "a //= 3\n",
        "print(\"a: \", a)\n",
        "a %= 3\n",
        "print(\"a: \", a)\n",
        "a **= 3\n",
        "print(\"a: \", a)\n"
      ],
      "metadata": {
        "colab": {
          "base_uri": "https://localhost:8080/"
        },
        "id": "Nik8ylSef1gD",
        "outputId": "4b8ca1c6-f3f7-4e2e-a7d9-99a6656ae8a2"
      },
      "execution_count": null,
      "outputs": [
        {
          "output_type": "stream",
          "name": "stdout",
          "text": [
            "5\n",
            "-1\n",
            "6\n",
            "0.6666666666666666\n",
            "0\n",
            "2\n",
            "8\n",
            "False\n",
            "True\n",
            "False\n",
            "True\n",
            "False\n",
            "True\n",
            "False\n",
            "True\n",
            "True\n",
            "2\n",
            "3\n",
            "1\n",
            "-3\n",
            "16\n",
            "0\n",
            "a:  5\n",
            "a:  2\n",
            "a:  6\n",
            "a:  2.0\n",
            "a:  0.0\n",
            "a:  0.0\n",
            "a:  0.0\n"
          ]
        }
      ]
    },
    {
      "cell_type": "code",
      "source": [
        "a, b = 2, 3.5 #type conversion\n",
        "print(a + b)\n",
        "\n",
        "a = 2\n",
        "b =  int(\"2\") #type casting\n",
        "print(a + b)\n",
        "age = 21\n",
        "print(\"age:\" + str(age))"
      ],
      "metadata": {
        "colab": {
          "base_uri": "https://localhost:8080/"
        },
        "id": "NUsQeMj9gcMq",
        "outputId": "d8ab8031-71ca-487a-fcef-5d67701bc002"
      },
      "execution_count": null,
      "outputs": [
        {
          "output_type": "stream",
          "name": "stdout",
          "text": [
            "5.5\n",
            "4\n",
            "age:21\n"
          ]
        }
      ]
    },
    {
      "cell_type": "code",
      "source": [
        "num1 = int(input(\"Enter first number: \"))\n",
        "num2 = int(input(\"Enter second number: \"))\n",
        "print(\"Sum:\", num1 + num2)"
      ],
      "metadata": {
        "colab": {
          "base_uri": "https://localhost:8080/"
        },
        "id": "CVME1Z0Xj2Jj",
        "outputId": "3e299a37-f848-4f59-f7a3-2ad575198289"
      },
      "execution_count": null,
      "outputs": [
        {
          "output_type": "stream",
          "name": "stdout",
          "text": [
            "Enter first number: 5\n",
            "Enter second number: 10\n",
            "Sum: 15\n"
          ]
        }
      ]
    },
    {
      "cell_type": "code",
      "source": [
        "side = float(input(\"enter side: \"))\n",
        "print(\"area:\", side * side)\n"
      ],
      "metadata": {
        "colab": {
          "base_uri": "https://localhost:8080/"
        },
        "id": "5B2kgf3HlYxi",
        "outputId": "085dcd4e-3a58-40da-ebd0-b0b42fad72fa"
      },
      "execution_count": null,
      "outputs": [
        {
          "output_type": "stream",
          "name": "stdout",
          "text": [
            "enter side: 4\n",
            "area: 16.0\n"
          ]
        }
      ]
    },
    {
      "cell_type": "code",
      "source": [
        "num1 = float(input(\"enter first number: \"))\n",
        "num2 = float(input(\"enter second number: \"))\n",
        "print(\"avg:\", (num1 + num2) / 2)"
      ],
      "metadata": {
        "colab": {
          "base_uri": "https://localhost:8080/"
        },
        "id": "saVQXoPulpyk",
        "outputId": "ee8b54b2-044f-4752-c27d-91e2a3938d5d"
      },
      "execution_count": null,
      "outputs": [
        {
          "output_type": "stream",
          "name": "stdout",
          "text": [
            "enter first number: 5\n",
            "enter second number: 10\n",
            "avg: 7.5\n"
          ]
        }
      ]
    },
    {
      "cell_type": "code",
      "source": [
        "num1 = float(input(\"enter first number: \"))\n",
        "num2 = float(input(\"enter second number: \"))\n",
        "print(num1 >= num2)"
      ],
      "metadata": {
        "colab": {
          "base_uri": "https://localhost:8080/"
        },
        "id": "N5PrptZ5l3b-",
        "outputId": "d5ec0ea3-b172-481c-bef1-5369c23ec996"
      },
      "execution_count": null,
      "outputs": [
        {
          "output_type": "stream",
          "name": "stdout",
          "text": [
            "enter first number: 3\n",
            "enter second number: 6\n",
            "False\n"
          ]
        }
      ]
    },
    {
      "cell_type": "code",
      "source": [
        "array = [7,8,9,2,3,5,10,13]\n",
        "def p(i):\n",
        "  return i * i\n",
        "newarray = list(map(p,array))\n",
        "print(newarray)"
      ],
      "metadata": {
        "id": "Ac7t8c-snE3i",
        "colab": {
          "base_uri": "https://localhost:8080/"
        },
        "outputId": "731c6842-c511-4339-a7d0-36b34755a2a4"
      },
      "execution_count": null,
      "outputs": [
        {
          "output_type": "stream",
          "name": "stdout",
          "text": [
            "[49, 64, 81, 4, 9, 25, 100, 169]\n"
          ]
        }
      ]
    },
    {
      "cell_type": "code",
      "source": [
        "#string\n",
        "print(\"hello \" + \"world\")\n",
        "print(len(\"hello world\"))\n",
        "final = \"str1\" + \" \" + \"str2\"\n",
        "print(final)\n",
        "print(final[0])\n",
        "print(final[len(final) - 1])"
      ],
      "metadata": {
        "id": "ow8IidW_pG0a",
        "colab": {
          "base_uri": "https://localhost:8080/"
        },
        "outputId": "d00d5e40-2e42-4075-91be-d9e7f0a44423"
      },
      "execution_count": null,
      "outputs": [
        {
          "output_type": "stream",
          "name": "stdout",
          "text": [
            "hello world\n",
            "11\n",
            "str1 str2\n",
            "s\n",
            "2\n"
          ]
        }
      ]
    },
    {
      "cell_type": "code",
      "source": [
        "str1 = \"debottam\"\n",
        "print(str1[:])\n",
        "print(str1[0:])\n",
        "print(str1[:len(str1)])\n",
        "print(str1[-8:])\n",
        "print(str1[::-1])\n",
        "print(str1[0:8:2])"
      ],
      "metadata": {
        "colab": {
          "base_uri": "https://localhost:8080/"
        },
        "id": "mysYjoKgxbZc",
        "outputId": "0ec532f2-8603-4a73-ce58-c8a58c338eb4"
      },
      "execution_count": null,
      "outputs": [
        {
          "output_type": "stream",
          "name": "stdout",
          "text": [
            "debottam\n",
            "debottam\n",
            "debottam\n",
            "debottam\n",
            "mattobed\n",
            "dbta\n"
          ]
        }
      ]
    },
    {
      "cell_type": "code",
      "source": [
        "string = \"   i am a coder   \"\n",
        "print(string.upper())\n",
        "print(string.lower())\n",
        "print(string.title())\n",
        "print(string.capitalize())\n",
        "print(string.swapcase())\n",
        "print(string.endswith(\"coder\"))\n",
        "print(string.startswith(\"i\"))\n",
        "print(string.find(\"am\"))\n",
        "print(string.replace(\"coder\", \"developer\"))\n",
        "print(string.count('a'))\n",
        "print(string.index('a'))\n",
        "print(string.split())\n",
        "print(string.split('a'))\n",
        "print(string.strip())\n",
        "print(string.lstrip())\n",
        "print(string.rstrip())\n",
        "print(string.zfill(20))\n",
        "print(string.center(20, '*'))\n",
        "print(string.ljust(20, '*'))\n",
        "print(string.rjust(20, '*'))\n",
        "print(string.isupper())\n",
        "print(string.islower())\n",
        "print(string.istitle())\n",
        "print(string.isspace())\n",
        "print(string.isnumeric())\n",
        "print(string.isalpha())\n",
        "print(string.isalnum())\n",
        "print(string.isprintable())\n",
        "print(string.isidentifier())\n",
        "print(string.isdecimal())\n",
        "print(string.isdigit())\n",
        "print(string.isascii())"
      ],
      "metadata": {
        "colab": {
          "base_uri": "https://localhost:8080/"
        },
        "id": "BQP_AHF_zNCp",
        "outputId": "764d914d-0422-4ea9-b97a-3a391ccef953"
      },
      "execution_count": null,
      "outputs": [
        {
          "output_type": "stream",
          "name": "stdout",
          "text": [
            "   I AM A CODER   \n",
            "   i am a coder   \n",
            "   I Am A Coder   \n",
            "   i am a coder   \n",
            "   I AM A CODER   \n",
            "False\n",
            "False\n",
            "5\n",
            "   i am a developer   \n",
            "2\n",
            "5\n",
            "['i', 'am', 'a', 'coder']\n",
            "['   i ', 'm ', ' coder   ']\n",
            "i am a coder\n",
            "i am a coder   \n",
            "   i am a coder\n",
            "00   i am a coder   \n",
            "*   i am a coder   *\n",
            "   i am a coder   **\n",
            "**   i am a coder   \n",
            "False\n",
            "True\n",
            "False\n",
            "False\n",
            "False\n",
            "False\n",
            "False\n",
            "True\n",
            "False\n",
            "False\n",
            "False\n",
            "True\n"
          ]
        }
      ]
    },
    {
      "cell_type": "code",
      "source": [
        "s = \"abfhgfg\"\n",
        "print(s.isdigit())\n",
        "print(s.isnumeric())\n",
        "print(s.isdecimal())\n",
        "print(s.isalpha())"
      ],
      "metadata": {
        "id": "yFaRm7KFA2Bu",
        "colab": {
          "base_uri": "https://localhost:8080/"
        },
        "outputId": "c1f0bf09-5c1f-42d3-913c-715b1245fcc5"
      },
      "execution_count": null,
      "outputs": [
        {
          "output_type": "stream",
          "name": "stdout",
          "text": [
            "False\n",
            "False\n",
            "False\n",
            "True\n"
          ]
        }
      ]
    },
    {
      "cell_type": "code",
      "source": [
        "age = 21\n",
        "if age >= 18:\n",
        "  if age > 80:\n",
        "    print(\"too old\")\n",
        "  else:\n",
        "    print(\"eligible\")\n",
        "else:\n",
        "  print(\"not eligible\")"
      ],
      "metadata": {
        "colab": {
          "base_uri": "https://localhost:8080/"
        },
        "id": "7AgeNapoBtuj",
        "outputId": "e9d21d37-72cf-4426-9e5d-349de908d73c"
      },
      "execution_count": null,
      "outputs": [
        {
          "output_type": "stream",
          "name": "stdout",
          "text": [
            "eligible\n"
          ]
        }
      ]
    },
    {
      "cell_type": "code",
      "source": [
        "number = int(input(\"Enter a number: \"))\n",
        "if number % 2 == 0:\n",
        "  print(\"Even\")\n",
        "else:\n",
        "  print(\"Odd\")"
      ],
      "metadata": {
        "colab": {
          "base_uri": "https://localhost:8080/"
        },
        "id": "oxH6tRasDU1v",
        "outputId": "1fc06c7e-cd9f-41bb-82e6-8e0ecd7035c2"
      },
      "execution_count": null,
      "outputs": [
        {
          "output_type": "stream",
          "name": "stdout",
          "text": [
            "Enter a number: 4\n",
            "Even\n"
          ]
        }
      ]
    },
    {
      "cell_type": "code",
      "source": [
        "a, b , c = 2, 3, 4\n",
        "if a > b and a > c:\n",
        "  print(\"a is greater\")\n",
        "elif b > a and b > c:\n",
        "  print(\"b is greater\")\n",
        "else:\n",
        "  print(\"c is greater\")"
      ],
      "metadata": {
        "colab": {
          "base_uri": "https://localhost:8080/"
        },
        "id": "xJzQwzygEGEF",
        "outputId": "0b57b4c5-9160-4392-dbf2-1f11aa5976a0"
      },
      "execution_count": null,
      "outputs": [
        {
          "output_type": "stream",
          "name": "stdout",
          "text": [
            "c is greater\n"
          ]
        }
      ]
    },
    {
      "cell_type": "code",
      "source": [
        "a, b, c, d = 2, 3, 4, 5\n",
        "if a > b and a > c and a > d:\n",
        "  print(\"a is greater\")\n",
        "elif b > a and b > c and b > d:\n",
        "  print(\"b is greater\")\n",
        "elif c > a and c > b and c > d:\n",
        "  print(\"c is greater\")\n",
        "else:\n",
        "  print(\"d is greater\")"
      ],
      "metadata": {
        "colab": {
          "base_uri": "https://localhost:8080/"
        },
        "id": "zU7e4W8mEO4Y",
        "outputId": "698987aa-8632-412d-bd35-0a6f8aa8f48e"
      },
      "execution_count": null,
      "outputs": [
        {
          "output_type": "stream",
          "name": "stdout",
          "text": [
            "d is greater\n"
          ]
        }
      ]
    },
    {
      "cell_type": "code",
      "source": [
        "number = int(input(\"Enter a number: \"))\n",
        "if number > 0:\n",
        "  print(\"Positive\")\n",
        "elif number < 0:\n",
        "  print(\"Negative\")\n",
        "else:\n",
        "  print(\"Zero\")"
      ],
      "metadata": {
        "colab": {
          "base_uri": "https://localhost:8080/"
        },
        "id": "oAqui6grE3Kl",
        "outputId": "d89748ca-8ff9-4883-f0f1-2eedaee81526"
      },
      "execution_count": null,
      "outputs": [
        {
          "output_type": "stream",
          "name": "stdout",
          "text": [
            "Enter a number: 5\n",
            "Positive\n"
          ]
        }
      ]
    },
    {
      "cell_type": "code",
      "source": [
        "number = int(input(\"Enter a number: \"))\n",
        "if number % 7 == 0:\n",
        "  print(\"The number is multiple of 7\")\n",
        "else:\n",
        "  print(\"The number is not multiple of 7\")"
      ],
      "metadata": {
        "colab": {
          "base_uri": "https://localhost:8080/"
        },
        "id": "vkhoy1BIFM9c",
        "outputId": "466e87d7-61f7-4263-ca7f-f749267a81e3"
      },
      "execution_count": null,
      "outputs": [
        {
          "output_type": "stream",
          "name": "stdout",
          "text": [
            "Enter a number: 25\n",
            "The number is not multiple of 7\n"
          ]
        }
      ]
    },
    {
      "cell_type": "code",
      "source": [
        "#List mutable\n",
        "list1 = [90, 91, 99, 95, 96, 84, 85]\n",
        "print(sum(list1))\n",
        "print(max(list1))\n",
        "print(min(list1))\n",
        "print(len(list1))\n",
        "print(sorted(list1))\n",
        "print(sorted(list1, reverse=True))\n",
        "print(list1.count(90))\n",
        "print(list1.index(90))\n",
        "print(list1.pop())\n",
        "print(list1.pop(0))\n",
        "list1.remove(99)\n",
        "print(list1)\n",
        "list1.insert(0, 99)\n",
        "print(list1)\n",
        "list1.append(99)\n",
        "print(list1)\n",
        "print(list1.reverse())\n",
        "print(list1)\n",
        "list1.sort()\n",
        "print(list1)\n",
        "list1.sort(reverse=True)\n",
        "print(list1)\n",
        "list1 = [7,8,9,2,3,5,10,13]\n",
        "print(sorted(list1))\n",
        "print(list1)\n",
        "list1.sort()\n",
        "print(list1)\n",
        "print(list1.sort())\n",
        "list1.extend([1,2,3])\n",
        "print(list1)\n",
        "list1.append([1,2,3])\n",
        "print(list1)"
      ],
      "metadata": {
        "id": "mjv4LQRyFiUc",
        "colab": {
          "base_uri": "https://localhost:8080/"
        },
        "outputId": "1e7cc9a5-0b8b-42f1-890f-4f36514e58da"
      },
      "execution_count": null,
      "outputs": [
        {
          "output_type": "stream",
          "name": "stdout",
          "text": [
            "640\n",
            "99\n",
            "84\n",
            "7\n",
            "[84, 85, 90, 91, 95, 96, 99]\n",
            "[99, 96, 95, 91, 90, 85, 84]\n",
            "1\n",
            "0\n",
            "85\n",
            "90\n",
            "[91, 95, 96, 84]\n",
            "[99, 91, 95, 96, 84]\n",
            "[99, 91, 95, 96, 84, 99]\n",
            "None\n",
            "[99, 84, 96, 95, 91, 99]\n",
            "[84, 91, 95, 96, 99, 99]\n",
            "[99, 99, 96, 95, 91, 84]\n",
            "[2, 3, 5, 7, 8, 9, 10, 13]\n",
            "[7, 8, 9, 2, 3, 5, 10, 13]\n",
            "[2, 3, 5, 7, 8, 9, 10, 13]\n",
            "None\n",
            "[2, 3, 5, 7, 8, 9, 10, 13, 1, 2, 3]\n",
            "[2, 3, 5, 7, 8, 9, 10, 13, 1, 2, 3, [1, 2, 3]]\n"
          ]
        }
      ]
    },
    {
      "cell_type": "code",
      "source": [
        "list1 = [7,8,9,2,3,5,10,13]\n",
        "print(list1[0])\n",
        "print(list1[-1])\n",
        "print(list1[0:3])\n",
        "print(list1[0:8:2])\n",
        "print(list1[::-1])\n",
        "print(list1[::2])\n",
        "print(list1[1::2])\n",
        "print(list1[1:8:2])\n",
        "print(list1)"
      ],
      "metadata": {
        "id": "sdl61_GeGLFx",
        "colab": {
          "base_uri": "https://localhost:8080/"
        },
        "outputId": "106f10a0-f746-4d18-9dbb-f33d13eb77a0"
      },
      "execution_count": null,
      "outputs": [
        {
          "output_type": "stream",
          "name": "stdout",
          "text": [
            "7\n",
            "13\n",
            "[7, 8, 9]\n",
            "[7, 9, 3, 10]\n",
            "[13, 10, 5, 3, 2, 9, 8, 7]\n",
            "[7, 9, 3, 10]\n",
            "[8, 2, 5, 13]\n",
            "[8, 2, 5, 13]\n",
            "[7, 8, 9, 2, 3, 5, 10, 13]\n"
          ]
        }
      ]
    },
    {
      "cell_type": "code",
      "source": [
        "#Tuple immutable\n",
        "tuple1 = (7,8,9,2,3,5,10,13)\n",
        "print(tuple1)\n",
        "print(tuple1[0])\n",
        "print(tuple1[-1])\n",
        "print(tuple1[0:3])\n",
        "print(tuple1[0:8:2])\n",
        "print(tuple1[::-1])\n",
        "print(tuple1.count(7))\n",
        "print(tuple1.index(7))\n",
        "print(len(tuple1))\n",
        "print(max(tuple1))\n",
        "print(min(tuple1))\n",
        "print(sum(tuple1))\n",
        "print(sorted(tuple1))\n",
        "print(sorted(tuple1, reverse=True))"
      ],
      "metadata": {
        "colab": {
          "base_uri": "https://localhost:8080/"
        },
        "id": "nJgN4wk_w0aP",
        "outputId": "7a2c9b9c-bfc9-4f9e-daa0-19e13c54280f"
      },
      "execution_count": null,
      "outputs": [
        {
          "output_type": "stream",
          "name": "stdout",
          "text": [
            "(7, 8, 9, 2, 3, 5, 10, 13)\n",
            "7\n",
            "13\n",
            "(7, 8, 9)\n",
            "(7, 9, 3, 10)\n",
            "(13, 10, 5, 3, 2, 9, 8, 7)\n",
            "1\n",
            "0\n",
            "8\n",
            "13\n",
            "2\n",
            "57\n",
            "[2, 3, 5, 7, 8, 9, 10, 13]\n",
            "[13, 10, 9, 8, 7, 5, 3, 2]\n"
          ]
        }
      ]
    },
    {
      "cell_type": "code",
      "source": [
        "l1 = [7,8,9,2,3,5,10,13]\n",
        "l2 = l1\n",
        "l2.pop()\n",
        "print(l2)\n",
        "print(l1)\n",
        "l1 = [7,8,9,2,3,5,10,13]\n",
        "l3 = l1.copy()\n",
        "l3.pop()\n",
        "print(l3)\n",
        "print(l1)"
      ],
      "metadata": {
        "id": "-w8ATDxly93Z",
        "colab": {
          "base_uri": "https://localhost:8080/"
        },
        "outputId": "882a20d1-965b-4664-842f-df0059a43271"
      },
      "execution_count": null,
      "outputs": [
        {
          "output_type": "stream",
          "name": "stdout",
          "text": [
            "[7, 8, 9, 2, 3, 5, 10]\n",
            "[7, 8, 9, 2, 3, 5, 10]\n",
            "[7, 8, 9, 2, 3, 5, 10]\n",
            "[7, 8, 9, 2, 3, 5, 10, 13]\n"
          ]
        }
      ]
    },
    {
      "cell_type": "code",
      "source": [
        "#dictionary\n",
        "details = {\n",
        "    \"name\" : \"debottam kar\",\n",
        "    \"age\" : 21,\n",
        "    \"cgpa\" : 8.34,\n",
        "    \"msc\" : True,\n",
        "    \"x\" : None,\n",
        "    \"marks\" : [90,91,95,96,99,85,84],\n",
        "    \"address\" : {\n",
        "        \"city\" : \"kolkata\",\n",
        "        \"state\" : \"west bengal\",\n",
        "        \"country\" : \"India\"\n",
        "    }\n",
        "}\n",
        "print(details)\n",
        "print(details[\"name\"])\n",
        "print(details[\"age\"])\n",
        "print(details[\"cgpa\"])\n",
        "print(details[\"msc\"])\n",
        "print(details[\"x\"])\n",
        "print(details[\"marks\"])\n",
        "print(details[\"address\"])\n",
        "print(details[\"address\"][\"city\"])\n",
        "details[\"name\"] = \"Debottam Kar\"\n",
        "print(details)\n",
        "print(\"keys\", details.keys())\n",
        "print(\"values\", details.values())\n",
        "print(\"items\", details.items())\n",
        "print(details.get(\"name\"))\n",
        "print(details.get(\"age\"))\n",
        "print(details.get(\"cgpa\"))\n",
        "print(details.get(\"msc\"))\n",
        "print(details.get(\"x\"))\n",
        "print(details.get(\"marks\"))\n",
        "print(details.get(\"address\"))\n",
        "print(len(details))"
      ],
      "metadata": {
        "id": "UsdDs-9C5YfS",
        "colab": {
          "base_uri": "https://localhost:8080/"
        },
        "outputId": "35cd0bcf-3f64-4aec-a6ff-e8d107e04279"
      },
      "execution_count": null,
      "outputs": [
        {
          "output_type": "stream",
          "name": "stdout",
          "text": [
            "{'name': 'debottam kar', 'age': 21, 'cgpa': 8.34, 'msc': True, 'x': None, 'marks': [90, 91, 95, 96, 99, 85, 84], 'address': {'city': 'kolkata', 'state': 'west bengal', 'country': 'India'}}\n",
            "debottam kar\n",
            "21\n",
            "8.34\n",
            "True\n",
            "None\n",
            "[90, 91, 95, 96, 99, 85, 84]\n",
            "{'city': 'kolkata', 'state': 'west bengal', 'country': 'India'}\n",
            "kolkata\n",
            "{'name': 'Debottam Kar', 'age': 21, 'cgpa': 8.34, 'msc': True, 'x': None, 'marks': [90, 91, 95, 96, 99, 85, 84], 'address': {'city': 'kolkata', 'state': 'west bengal', 'country': 'India'}}\n",
            "keys dict_keys(['name', 'age', 'cgpa', 'msc', 'x', 'marks', 'address'])\n",
            "values dict_values(['Debottam Kar', 21, 8.34, True, None, [90, 91, 95, 96, 99, 85, 84], {'city': 'kolkata', 'state': 'west bengal', 'country': 'India'}])\n",
            "items dict_items([('name', 'Debottam Kar'), ('age', 21), ('cgpa', 8.34), ('msc', True), ('x', None), ('marks', [90, 91, 95, 96, 99, 85, 84]), ('address', {'city': 'kolkata', 'state': 'west bengal', 'country': 'India'})])\n",
            "Debottam Kar\n",
            "21\n",
            "8.34\n",
            "True\n",
            "None\n",
            "[90, 91, 95, 96, 99, 85, 84]\n",
            "{'city': 'kolkata', 'state': 'west bengal', 'country': 'India'}\n",
            "7\n"
          ]
        }
      ]
    },
    {
      "cell_type": "code",
      "source": [
        "details = {\n",
        "    \"name\" : \"debottam kar\",\n",
        "    \"age\" : 21,\n",
        "    \"cgpa\" : 8.34,\n",
        "    \"msc\" : True,\n",
        "    \"x\" : None,\n",
        "    \"marks\" : [90,91,95,96,99,85,84],\n",
        "    \"address\" : {\n",
        "        \"city\" : \"kolkata\",\n",
        "        \"state\" : \"west bengal\",\n",
        "        \"country\" : \"India\"\n",
        "    }\n",
        "}\n",
        "details.pop(\"name\")\n",
        "print(details)\n",
        "details.popitem()\n",
        "print(details)\n",
        "details.clear()\n",
        "print(details)\n",
        "# del details\n",
        "# print(details)\n",
        "details.update({\"name\" : \"debottam kar\"})\n",
        "print(details)"
      ],
      "metadata": {
        "id": "-XRfG8LD90pM",
        "colab": {
          "base_uri": "https://localhost:8080/"
        },
        "outputId": "ec72addb-0a05-462c-d307-c18a87ab2e00"
      },
      "execution_count": null,
      "outputs": [
        {
          "output_type": "stream",
          "name": "stdout",
          "text": [
            "{'age': 21, 'cgpa': 8.34, 'msc': True, 'x': None, 'marks': [90, 91, 95, 96, 99, 85, 84], 'address': {'city': 'kolkata', 'state': 'west bengal', 'country': 'India'}}\n",
            "{'age': 21, 'cgpa': 8.34, 'msc': True, 'x': None, 'marks': [90, 91, 95, 96, 99, 85, 84]}\n",
            "{}\n",
            "{'name': 'debottam kar'}\n"
          ]
        }
      ]
    },
    {
      "cell_type": "code",
      "source": [
        "#sets\n",
        "set1 = {7,8,9,2,3,5,10,13}\n",
        "print(set1)\n",
        "set2 = set()\n",
        "print(type(set2))\n",
        "set2.add(7)\n",
        "print(set2)\n",
        "set2.add(8)\n",
        "print(set2)\n",
        "set2.add(9)\n",
        "print(set2)\n",
        "set2.add(2)\n",
        "print(set2)\n",
        "print(len(set2))\n",
        "print(set2.pop())\n",
        "print(set2)\n",
        "set2.remove(7)\n",
        "print(set2)\n",
        "set2.clear()\n",
        "print(set2)\n",
        "set2.add((1,2,3))\n",
        "print(set2)"
      ],
      "metadata": {
        "colab": {
          "base_uri": "https://localhost:8080/"
        },
        "id": "RmVf_H55sqhF",
        "outputId": "567c9fc3-1372-4506-9626-5f9c3d82add8"
      },
      "execution_count": null,
      "outputs": [
        {
          "output_type": "stream",
          "name": "stdout",
          "text": [
            "{2, 3, 5, 7, 8, 9, 10, 13}\n",
            "<class 'set'>\n",
            "{7}\n",
            "{8, 7}\n",
            "{8, 9, 7}\n",
            "{8, 9, 2, 7}\n",
            "4\n",
            "8\n",
            "{9, 2, 7}\n",
            "{9, 2}\n",
            "set()\n",
            "{(1, 2, 3)}\n"
          ]
        }
      ]
    },
    {
      "cell_type": "code",
      "source": [
        "set1 = {7,8,9,2,3,5,10,13}\n",
        "set2 = {1,2,3,4,5,6,7,8}\n",
        "print(set1.union(set2))\n",
        "print(set1.intersection(set2))\n",
        "print(set1.difference(set2))\n",
        "print(set2.difference(set1))\n",
        "print(set1.symmetric_difference(set2))\n",
        "print(set1.isdisjoint(set2))\n",
        "print(set1.issubset(set2))\n",
        "print(set1.issuperset(set2))"
      ],
      "metadata": {
        "colab": {
          "base_uri": "https://localhost:8080/"
        },
        "id": "j7vhZpXmtktO",
        "outputId": "02ccf4a9-cb7b-4b34-91d7-2f5692cc6144"
      },
      "execution_count": null,
      "outputs": [
        {
          "output_type": "stream",
          "name": "stdout",
          "text": [
            "{1, 2, 3, 4, 5, 6, 7, 8, 9, 10, 13}\n",
            "{2, 3, 5, 7, 8}\n",
            "{9, 10, 13}\n",
            "{1, 4, 6}\n",
            "{1, 4, 6, 9, 10, 13}\n",
            "False\n",
            "False\n",
            "False\n"
          ]
        }
      ]
    },
    {
      "cell_type": "code",
      "source": [
        "set1 = {9, '9.0'}\n",
        "print(set1)\n",
        "set2 = {('int',9), ('float',9.0)}\n",
        "print(set2)"
      ],
      "metadata": {
        "colab": {
          "base_uri": "https://localhost:8080/"
        },
        "id": "-5RGzsn1vh9k",
        "outputId": "e9e085c1-3359-4f23-a10d-e0a21dd1c360"
      },
      "execution_count": null,
      "outputs": [
        {
          "output_type": "stream",
          "name": "stdout",
          "text": [
            "{'9.0', 9}\n",
            "{('int', 9), ('float', 9.0)}\n"
          ]
        }
      ]
    },
    {
      "cell_type": "code",
      "source": [
        "#while loop\n",
        "i = 1\n",
        "while(i <= 10):\n",
        "  print(i)\n",
        "  i += 1"
      ],
      "metadata": {
        "colab": {
          "base_uri": "https://localhost:8080/"
        },
        "id": "XkINCSRrw_Rk",
        "outputId": "7057c7d9-aaa3-425c-e703-e15b3c27ed37"
      },
      "execution_count": null,
      "outputs": [
        {
          "output_type": "stream",
          "name": "stdout",
          "text": [
            "1\n",
            "2\n",
            "3\n",
            "4\n",
            "5\n",
            "6\n",
            "7\n",
            "8\n",
            "9\n",
            "10\n"
          ]
        }
      ]
    },
    {
      "cell_type": "code",
      "source": [
        "#for loop\n",
        "for i in range(10, 0, -1):\n",
        "  print(i)"
      ],
      "metadata": {
        "colab": {
          "base_uri": "https://localhost:8080/"
        },
        "id": "zOrxfbgO0bL9",
        "outputId": "aa11dea9-a6ca-45ac-a55b-7213cf4a0498"
      },
      "execution_count": null,
      "outputs": [
        {
          "output_type": "stream",
          "name": "stdout",
          "text": [
            "10\n",
            "9\n",
            "8\n",
            "7\n",
            "6\n",
            "5\n",
            "4\n",
            "3\n",
            "2\n",
            "1\n"
          ]
        }
      ]
    },
    {
      "cell_type": "code",
      "source": [
        "for i in range(5):\n",
        "  for j in range(5):\n",
        "    print(\"*\", end=\" \")\n",
        "  print()"
      ],
      "metadata": {
        "colab": {
          "base_uri": "https://localhost:8080/"
        },
        "id": "X5-c8Clf8Dsy",
        "outputId": "8baffdfa-3e4b-4d57-8442-b872178c5402"
      },
      "execution_count": null,
      "outputs": [
        {
          "output_type": "stream",
          "name": "stdout",
          "text": [
            "* * * * * \n",
            "* * * * * \n",
            "* * * * * \n",
            "* * * * * \n",
            "* * * * * \n"
          ]
        }
      ]
    },
    {
      "cell_type": "code",
      "source": [
        "for i in range(5):\n",
        "  for j in range(i+1):\n",
        "    print(\"*\", end=\" \")\n",
        "  print()"
      ],
      "metadata": {
        "colab": {
          "base_uri": "https://localhost:8080/"
        },
        "id": "ADLkD2du9pej",
        "outputId": "f681e29f-8f5c-41bf-9101-a7529a1f75e4"
      },
      "execution_count": null,
      "outputs": [
        {
          "output_type": "stream",
          "name": "stdout",
          "text": [
            "* \n",
            "* * \n",
            "* * * \n",
            "* * * * \n",
            "* * * * * \n"
          ]
        }
      ]
    },
    {
      "cell_type": "code",
      "source": [
        "for i in range(5, 0, -1):\n",
        "  for j in range(i):\n",
        "    print(\"*\", end=\" \")\n",
        "  print()"
      ],
      "metadata": {
        "colab": {
          "base_uri": "https://localhost:8080/"
        },
        "id": "zBS0ox3e9x-u",
        "outputId": "fe4254e3-9661-4f88-b33b-9556d99cee6f"
      },
      "execution_count": null,
      "outputs": [
        {
          "output_type": "stream",
          "name": "stdout",
          "text": [
            "* * * * * \n",
            "* * * * \n",
            "* * * \n",
            "* * \n",
            "* \n"
          ]
        }
      ]
    },
    {
      "cell_type": "code",
      "source": [
        "list1 = [7,8,9,2,3,5,10,13]\n",
        "for i in list1:\n",
        "  print(i)\n",
        "list1.sort()\n",
        "print(list1)"
      ],
      "metadata": {
        "colab": {
          "base_uri": "https://localhost:8080/"
        },
        "id": "N_ObrPCP-DEo",
        "outputId": "10b27f7c-8569-4247-e825-a3d20323509a"
      },
      "execution_count": null,
      "outputs": [
        {
          "output_type": "stream",
          "name": "stdout",
          "text": [
            "7\n",
            "8\n",
            "9\n",
            "2\n",
            "3\n",
            "5\n",
            "10\n",
            "13\n",
            "[2, 3, 5, 7, 8, 9, 10, 13]\n"
          ]
        }
      ]
    },
    {
      "cell_type": "code",
      "source": [
        "tuple1 = (7,8,9,2,3,5,10,13)\n",
        "if 7 not in tuple1:\n",
        "  print(\"7 not is present\")\n",
        "else:\n",
        "  print(\"7 is present\")"
      ],
      "metadata": {
        "colab": {
          "base_uri": "https://localhost:8080/"
        },
        "id": "ss5YuS7Q-XK3",
        "outputId": "cd0c150d-60a0-4035-f375-81ee9330284e"
      },
      "execution_count": null,
      "outputs": [
        {
          "output_type": "stream",
          "name": "stdout",
          "text": [
            "7 is present\n"
          ]
        }
      ]
    },
    {
      "cell_type": "code",
      "source": [
        "set1 = frozenset({7,8,9,2,3,5,10,13})\n",
        "for i in set1:\n",
        "  print(i)\n",
        "# set1.clear()\n",
        "# print(set1)"
      ],
      "metadata": {
        "colab": {
          "base_uri": "https://localhost:8080/"
        },
        "id": "LCFaqkru-p6L",
        "outputId": "c9d2521b-f114-4f1d-e665-37566c7c9ab1"
      },
      "execution_count": null,
      "outputs": [
        {
          "output_type": "stream",
          "name": "stdout",
          "text": [
            "2\n",
            "3\n",
            "5\n",
            "7\n",
            "8\n",
            "9\n",
            "10\n",
            "13\n"
          ]
        }
      ]
    },
    {
      "cell_type": "code",
      "source": [
        "for i in range(1, 11):\n",
        "  if(i == 5):\n",
        "    continue\n",
        "  print(i)\n",
        "print(\"-----------\")\n",
        "for i in range(1, 11):\n",
        "  if(i == 5):\n",
        "    break\n",
        "  print(i)\n",
        "print(\"-----------\")\n",
        "for i in range(1, 11):\n",
        "  if(i == 5):\n",
        "    pass\n",
        "  print(i)\n",
        "print(\"-----------\")\n",
        "for i in range(1, 11):\n",
        "  if(i % 2 == 0):\n",
        "    pass\n",
        "  else:\n",
        "    print(i)\n",
        "print(\"-----------\")\n",
        "for i in range(1, 11):\n",
        "  if(i % 2 == 0):\n",
        "    continue\n",
        "  else:\n",
        "    print(i)"
      ],
      "metadata": {
        "colab": {
          "base_uri": "https://localhost:8080/"
        },
        "id": "YlMcXisiAfHt",
        "outputId": "94152441-2782-44f4-9305-2343bd0935a4"
      },
      "execution_count": null,
      "outputs": [
        {
          "output_type": "stream",
          "name": "stdout",
          "text": [
            "1\n",
            "2\n",
            "3\n",
            "4\n",
            "6\n",
            "7\n",
            "8\n",
            "9\n",
            "10\n",
            "-----------\n",
            "1\n",
            "2\n",
            "3\n",
            "4\n",
            "-----------\n",
            "1\n",
            "2\n",
            "3\n",
            "4\n",
            "5\n",
            "6\n",
            "7\n",
            "8\n",
            "9\n",
            "10\n",
            "-----------\n",
            "1\n",
            "3\n",
            "5\n",
            "7\n",
            "9\n",
            "-----------\n",
            "1\n",
            "3\n",
            "5\n",
            "7\n",
            "9\n"
          ]
        }
      ]
    },
    {
      "cell_type": "code",
      "source": [
        "for i in range(11):\n",
        "  if i == 15:\n",
        "    print(\"5 is found\")\n",
        "    break\n",
        "else:\n",
        "  print(\"end\")"
      ],
      "metadata": {
        "colab": {
          "base_uri": "https://localhost:8080/"
        },
        "id": "X4cyT-t2DVT9",
        "outputId": "899b1a9a-74b1-4b77-e1da-ec8633f9d8ac"
      },
      "execution_count": null,
      "outputs": [
        {
          "output_type": "stream",
          "name": "stdout",
          "text": [
            "end\n"
          ]
        }
      ]
    },
    {
      "cell_type": "code",
      "source": [
        "list1 = list(range(10))\n",
        "print(list1)"
      ],
      "metadata": {
        "colab": {
          "base_uri": "https://localhost:8080/"
        },
        "id": "3VN3K5XWFS7u",
        "outputId": "26528155-4202-4121-a6c2-d6c1453adb15"
      },
      "execution_count": null,
      "outputs": [
        {
          "output_type": "stream",
          "name": "stdout",
          "text": [
            "[0, 1, 2, 3, 4, 5, 6, 7, 8, 9]\n"
          ]
        }
      ]
    },
    {
      "cell_type": "code",
      "source": [
        "list1 = list(range(1,11))\n",
        "print(sum(list1))"
      ],
      "metadata": {
        "colab": {
          "base_uri": "https://localhost:8080/"
        },
        "id": "Y20U8JM6Fxh_",
        "outputId": "ccf7f109-3d59-46aa-df58-782ecae17881"
      },
      "execution_count": null,
      "outputs": [
        {
          "output_type": "stream",
          "name": "stdout",
          "text": [
            "55\n"
          ]
        }
      ]
    },
    {
      "cell_type": "code",
      "source": [
        "import calendar\n",
        "yy = 2024\n",
        "for i in range(1,3):\n",
        "  print(calendar.month(yy, i), end=\" \")"
      ],
      "metadata": {
        "colab": {
          "base_uri": "https://localhost:8080/"
        },
        "id": "bYpcF9TGk70n",
        "outputId": "359a967e-6095-48d4-ddad-4ecb3aa446c9"
      },
      "execution_count": null,
      "outputs": [
        {
          "output_type": "stream",
          "name": "stdout",
          "text": [
            "    January 2024\n",
            "Mo Tu We Th Fr Sa Su\n",
            " 1  2  3  4  5  6  7\n",
            " 8  9 10 11 12 13 14\n",
            "15 16 17 18 19 20 21\n",
            "22 23 24 25 26 27 28\n",
            "29 30 31\n",
            "    February 2024\n",
            "Mo Tu We Th Fr Sa Su\n",
            "          1  2  3  4\n",
            " 5  6  7  8  9 10 11\n",
            "12 13 14 15 16 17 18\n",
            "19 20 21 22 23 24 25\n",
            "26 27 28 29\n",
            " "
          ]
        }
      ]
    },
    {
      "cell_type": "code",
      "source": [
        "import matplotlib.pyplot as plt\n",
        "x = [1,2,3,4,5]\n",
        "y = [2,4,6,8,10]\n",
        "plt.bar(x,y)\n",
        "plt.title(\"Bar Plot\")\n",
        "plt.xlabel(\"X-axis\")\n",
        "plt.ylabel(\"Y-axis\")\n",
        "plt.show()\n",
        "plt.plot(x,y,marker = 'o')\n",
        "plt.title(\"Line Plot\")\n",
        "plt.xlabel(\"X-axis\")\n",
        "plt.ylabel(\"Y-axis\")\n",
        "plt.show()"
      ],
      "metadata": {
        "id": "sE8LkNxqmXEF",
        "colab": {
          "base_uri": "https://localhost:8080/",
          "height": 927
        },
        "outputId": "2cf3073a-3f97-4034-9a77-462d39d8a176"
      },
      "execution_count": null,
      "outputs": [
        {
          "output_type": "display_data",
          "data": {
            "text/plain": [
              "<Figure size 640x480 with 1 Axes>"
            ],
            "image/png": "[encoded data removed]"
          },
          "metadata": {}
        },
        {
          "output_type": "display_data",
          "data": {
            "text/plain": [
              "<Figure size 640x480 with 1 Axes>"
            ],
            "image/png": "[encoded data removed]"
          },
          "metadata": {}
        }
      ]
    },
    {
      "cell_type": "code",
      "source": [
        "def add(a, b):\n",
        "  return a + b\n",
        "ADD_RESULT = add(2,3)\n",
        "print(ADD_RESULT)\n",
        "def sub(a, b):\n",
        "  return a - b\n",
        "SUB_RESULT = sub(20,3)\n",
        "print(SUB_RESULT)\n",
        "def mul(a, b):\n",
        "  return a * b\n",
        "MUL_RESULT = mul(2,3)\n",
        "print(MUL_RESULT)\n",
        "def div(a, b):\n",
        "  return a / b\n",
        "DIV_RESULT = div(2,3)\n",
        "print(DIV_RESULT)\n",
        "def mod(a, b):\n",
        "  return a % b\n",
        "MOD_RESULT = mod(2,3)\n",
        "print(MOD_RESULT)\n",
        "def power(a, b):\n",
        "  return a ** b\n",
        "POWER_RESULT = power(2,3)\n",
        "print(POWER_RESULT)\n",
        "def floor(a, b):\n",
        "  return a // b\n",
        "FLOOR_RESULT = floor(22,3)\n",
        "print(FLOOR_RESULT)\n",
        "def add_sub(a, b):\n",
        "  return a + b, a - b\n",
        "ADD_RESULT, SUB_RESULT = add_sub(2,3)\n",
        "print(ADD_RESULT)\n",
        "print(SUB_RESULT)\n",
        "def add_sub_mul_div(a, b):\n",
        "  return a + b, a - b, a * b, a / b\n",
        "ADD_RESULT, SUB_RESULT, MUL_RESULT, DIV_RESULT = add_sub_mul_div(2,3)\n",
        "print(ADD_RESULT)\n",
        "print(SUB_RESULT)\n",
        "print(MUL_RESULT)\n",
        "print(DIV_RESULT)"
      ],
      "metadata": {
        "colab": {
          "base_uri": "https://localhost:8080/"
        },
        "id": "1-k0GWZD99O4",
        "outputId": "63e7d755-bdac-4161-cd9b-535fc9d02434"
      },
      "execution_count": null,
      "outputs": [
        {
          "output_type": "stream",
          "name": "stdout",
          "text": [
            "5\n",
            "17\n",
            "6\n",
            "0.6666666666666666\n",
            "2\n",
            "8\n",
            "7\n",
            "5\n",
            "-1\n",
            "5\n",
            "-1\n",
            "6\n",
            "0.6666666666666666\n"
          ]
        }
      ]
    },
    {
      "cell_type": "code",
      "source": [
        "def add(*args):\n",
        "  sum = 0\n",
        "  for i in args:\n",
        "    print(i)\n",
        "    sum += i\n",
        "  return sum\n",
        "sum_res = add(1,2,3,4,5,6)\n",
        "print(sum_res)"
      ],
      "metadata": {
        "colab": {
          "base_uri": "https://localhost:8080/"
        },
        "id": "2IqVFZxZA6YU",
        "outputId": "85427c74-6d77-4324-b1a8-dc763bda510b"
      },
      "execution_count": null,
      "outputs": [
        {
          "output_type": "stream",
          "name": "stdout",
          "text": [
            "1\n",
            "2\n",
            "3\n",
            "4\n",
            "5\n",
            "6\n",
            "21\n"
          ]
        }
      ]
    },
    {
      "cell_type": "code",
      "source": [
        "a, b, c = (1, 2, 3)\n",
        "print(a)\n",
        "print(b)\n",
        "print(c)\n",
        "tup = (1, 2, 3)\n",
        "a, b, c = tup\n",
        "print(a)\n",
        "print(b)\n",
        "print(c)"
      ],
      "metadata": {
        "colab": {
          "base_uri": "https://localhost:8080/"
        },
        "id": "gACz4xxxDAJn",
        "outputId": "7cd1ae6d-fba5-4f53-87f9-1314aa476610"
      },
      "execution_count": null,
      "outputs": [
        {
          "output_type": "stream",
          "name": "stdout",
          "text": [
            "1\n",
            "2\n",
            "3\n",
            "1\n",
            "2\n",
            "3\n"
          ]
        }
      ]
    },
    {
      "cell_type": "code",
      "source": [
        "import math\n",
        "import random\n",
        "print(random.randint(1,6))\n",
        "list1 = [7,.8,9,2,3,5,10,13]\n",
        "print(random.choice(list1))\n",
        "print(math.floor(random.random() * 5))\n",
        "l = [\"debottam\", \"rupan\", \"rony\", \"mithai\", \"dustu\", \"tubai\", \"tubu\"]\n",
        "print(random.choice(l))\n",
        "random.shuffle(l)\n",
        "print(l)"
      ],
      "metadata": {
        "colab": {
          "base_uri": "https://localhost:8080/"
        },
        "id": "SlY0PZ0iD5K0",
        "outputId": "6220ce0a-4956-4c8a-f224-1e3f4d0db120"
      },
      "execution_count": null,
      "outputs": [
        {
          "output_type": "stream",
          "name": "stdout",
          "text": [
            "1\n",
            "5\n",
            "4\n",
            "debottam\n",
            "['dustu', 'tubai', 'rony', 'debottam', 'mithai', 'tubu', 'rupan']\n"
          ]
        }
      ]
    },
    {
      "cell_type": "code",
      "source": [
        "list1 = [1,2,3]\n",
        "list1.insert(0,4)\n",
        "print(list1)\n",
        "for i in reversed(list1):\n",
        "  print(i)"
      ],
      "metadata": {
        "colab": {
          "base_uri": "https://localhost:8080/"
        },
        "id": "nBVw3OdNctXr",
        "outputId": "6145d815-0b30-4a92-b85b-a43236507720"
      },
      "execution_count": null,
      "outputs": [
        {
          "output_type": "stream",
          "name": "stdout",
          "text": [
            "[4, 1, 2, 3]\n",
            "3\n",
            "2\n",
            "1\n",
            "4\n"
          ]
        }
      ]
    },
    {
      "cell_type": "code",
      "source": [
        "# prompt: list of cities\n",
        "def length(cities):\n",
        "  print(len(cities))\n",
        "cities = [\"Kolkata\", \"Delhi\", \"Mumbai\", \"Chennai\", \"Bangalore\"]\n",
        "length(cities)"
      ],
      "metadata": {
        "colab": {
          "base_uri": "https://localhost:8080/"
        },
        "id": "WJmvvpt5c178",
        "outputId": "d78fa48a-0718-4dd5-bc70-26abf6184e90"
      },
      "execution_count": null,
      "outputs": [
        {
          "output_type": "stream",
          "name": "stdout",
          "text": [
            "5\n"
          ]
        }
      ]
    },
    {
      "cell_type": "code",
      "source": [
        "def show(n):\n",
        "  if n == 0:\n",
        "    return\n",
        "  print(n)\n",
        "  show(n - 1)\n",
        "show(5)"
      ],
      "metadata": {
        "colab": {
          "base_uri": "https://localhost:8080/"
        },
        "id": "oFAKj-veuJ-g",
        "outputId": "77b9d640-4669-4022-ea2d-4df5703d3d28"
      },
      "execution_count": null,
      "outputs": [
        {
          "output_type": "stream",
          "name": "stdout",
          "text": [
            "5\n",
            "4\n",
            "3\n",
            "2\n",
            "1\n"
          ]
        }
      ]
    },
    {
      "cell_type": "code",
      "source": [
        "def fact(n):\n",
        "  if n <= 1:\n",
        "     return 1\n",
        "  else:\n",
        "     return n * fact(n - 1)\n",
        "res = fact(6)\n",
        "print(res)"
      ],
      "metadata": {
        "colab": {
          "base_uri": "https://localhost:8080/"
        },
        "id": "mj_aTE4vtEi3",
        "outputId": "5b371586-4846-4318-de78-c51262f2dabe"
      },
      "execution_count": null,
      "outputs": [
        {
          "output_type": "stream",
          "name": "stdout",
          "text": [
            "720\n"
          ]
        }
      ]
    },
    {
      "cell_type": "code",
      "source": [
        "list1 = [7,8,9,2,3,5,10,13]\n",
        "def show(list1, i):\n",
        "  if i == len(list1):\n",
        "    return\n",
        "  else:\n",
        "    print(list1[i])\n",
        "    show(list1, i + 1)\n",
        "show(list1, 0)"
      ],
      "metadata": {
        "colab": {
          "base_uri": "https://localhost:8080/"
        },
        "id": "bm1SlOODvK-R",
        "outputId": "69a87551-07e3-4862-92c9-e1038cc240ef"
      },
      "execution_count": null,
      "outputs": [
        {
          "output_type": "stream",
          "name": "stdout",
          "text": [
            "7\n",
            "8\n",
            "9\n",
            "2\n",
            "3\n",
            "5\n",
            "10\n",
            "13\n"
          ]
        }
      ]
    },
    {
      "cell_type": "code",
      "source": [
        "f = open(\"file.txt\", \"r\")\n",
        "print(f.read())\n",
        "f.close()"
      ],
      "metadata": {
        "colab": {
          "base_uri": "https://localhost:8080/"
        },
        "id": "54WmbYk2yY2x",
        "outputId": "c4e83988-65fb-4c8a-bed8-37c5c03b93c7"
      },
      "execution_count": null,
      "outputs": [
        {
          "output_type": "stream",
          "name": "stdout",
          "text": [
            "\n"
          ]
        }
      ]
    },
    {
      "cell_type": "code",
      "source": [
        "with open(\"file.txt\", \"w\") as f:\n",
        "    f.write(\"This is a sample text file.\")"
      ],
      "metadata": {
        "id": "s6lQp_cE1MgP"
      },
      "execution_count": null,
      "outputs": []
    },
    {
      "cell_type": "code",
      "source": [
        "from google.colab import drive\n",
        "drive.mount('/content/drive')"
      ],
      "metadata": {
        "colab": {
          "base_uri": "https://localhost:8080/"
        },
        "id": "qCOuitp81kSh",
        "outputId": "15a0809b-86e1-4373-e4de-72721857eeb4"
      },
      "execution_count": null,
      "outputs": [
        {
          "output_type": "stream",
          "name": "stdout",
          "text": [
            "Mounted at /content/drive\n"
          ]
        }
      ]
    },
    {
      "cell_type": "code",
      "source": [
        "with open('/content/drive/My Drive/file.txt', 'w') as f:\n",
        "    f.write('This file is saved in the root directory of Google Drive.')"
      ],
      "metadata": {
        "id": "dPigLy542EKx"
      },
      "execution_count": null,
      "outputs": []
    },
    {
      "cell_type": "code",
      "source": [
        "f = open('/content/drive/My Drive/Colab Notebooks/file_handling.txt', 'w')\n",
        "f.write(\"hi\")\n",
        "f.close()"
      ],
      "metadata": {
        "id": "-28OzovM2R0Y"
      },
      "execution_count": null,
      "outputs": []
    },
    {
      "cell_type": "code",
      "source": [
        "f = open('/content/drive/My Drive/Colab Notebooks/file_handling.txt', 'a')\n",
        "f.write(\" debottam kar python javascript\")\n",
        "f.close()"
      ],
      "metadata": {
        "id": "JVULtbpg2oHN"
      },
      "execution_count": null,
      "outputs": []
    },
    {
      "cell_type": "code",
      "source": [
        "#object oriented programming\n",
        "class Student:\n",
        "  name = \"debottam kar\"\n",
        "  age = 21\n",
        "  marks = [90,91,95,96,99,85,84]\n",
        "print(Student.name)\n",
        "print(Student.age)\n",
        "print(Student.marks)\n",
        "s1 = Student()\n",
        "print(s1.name)\n",
        "print(s1.age)\n",
        "print(s1.marks)"
      ],
      "metadata": {
        "id": "gYXN0YFn3Sle",
        "colab": {
          "base_uri": "https://localhost:8080/"
        },
        "outputId": "bfc3f53a-717f-4805-e6b0-3ecbe31a8ff2"
      },
      "execution_count": null,
      "outputs": [
        {
          "output_type": "stream",
          "name": "stdout",
          "text": [
            "debottam kar\n",
            "21\n",
            "[90, 91, 95, 96, 99, 85, 84]\n",
            "debottam kar\n",
            "21\n",
            "[90, 91, 95, 96, 99, 85, 84]\n"
          ]
        }
      ]
    },
    {
      "cell_type": "code",
      "source": [
        "class Student:\n",
        "  name = \"debottam kar\"\n",
        "  age = 21\n",
        "  marks = [90,91,95,96,99,85,84]\n",
        "  def __init__(self):\n",
        "    print(\"constructor\")\n",
        "  def show(self):\n",
        "    print(self.name)\n",
        "    print(self.age)\n",
        "    print(self.marks)\n",
        "s1 = Student()\n",
        "s1.show()"
      ],
      "metadata": {
        "colab": {
          "base_uri": "https://localhost:8080/"
        },
        "id": "r-pPgdpJNCuJ",
        "outputId": "51b53fb9-b36f-40fe-d746-f4afb0c7ca9f"
      },
      "execution_count": null,
      "outputs": [
        {
          "output_type": "stream",
          "name": "stdout",
          "text": [
            "constructor\n",
            "debottam kar\n",
            "21\n",
            "[90, 91, 95, 96, 99, 85, 84]\n"
          ]
        }
      ]
    },
    {
      "cell_type": "code",
      "source": [
        "class Student:\n",
        "  name = \"\"\n",
        "  age = 0\n",
        "  marks = []\n",
        "  def __init__(self,name,age,marks):\n",
        "    self.name = name\n",
        "    self.age = age\n",
        "    self.marks = marks\n",
        "    print(\"constructor\")\n",
        "  def show(self):\n",
        "    print(self.name)\n",
        "    print(self.age)\n",
        "    print(self.marks)\n",
        "s1 = Student(\"deb\",21,[99,96,95,91,90,85,84])\n",
        "s1.show()"
      ],
      "metadata": {
        "colab": {
          "base_uri": "https://localhost:8080/"
        },
        "id": "I_4zQoMDNk7m",
        "outputId": "f27b3732-8109-471e-b088-c05b2ea44fbb"
      },
      "execution_count": null,
      "outputs": [
        {
          "output_type": "stream",
          "name": "stdout",
          "text": [
            "constructor\n",
            "deb\n",
            "21\n",
            "[99, 96, 95, 91, 90, 85, 84]\n"
          ]
        }
      ]
    },
    {
      "cell_type": "code",
      "source": [
        "from abc import ABC, abstractmethod\n",
        "class Animal(ABC):\n",
        "    @abstractmethod\n",
        "    def sound(self):\n",
        "        pass\n",
        "\n",
        "class Dog(Animal):\n",
        "    def sound(self):\n",
        "        return \"Bark\"\n",
        "\n",
        "class Cat(Animal):\n",
        "    def sound(self):\n",
        "        return \"Meow\"\n",
        "dog1 = Dog()\n",
        "print(dog1.sound())\n",
        "cat1 = Cat()\n",
        "print(cat1.sound())\n",
        "del dog1\n",
        "del cat1"
      ],
      "metadata": {
        "id": "TkjjaUdzOVgr",
        "colab": {
          "base_uri": "https://localhost:8080/"
        },
        "outputId": "a090c3b5-0007-4771-9023-d847a55c56e8"
      },
      "execution_count": null,
      "outputs": [
        {
          "output_type": "stream",
          "name": "stdout",
          "text": [
            "Bark\n",
            "Meow\n"
          ]
        }
      ]
    },
    {
      "cell_type": "code",
      "source": [
        "class Animal:\n",
        "    def __init__(self, name):\n",
        "        self.name = name\n",
        "        print(self.name)\n",
        "\n",
        "    def stat(self):\n",
        "        print(\"Animal\")\n",
        "\n",
        "class Dog(Animal):\n",
        "    def __init__(self, name):\n",
        "        super().__init__(name)\n",
        "\n",
        "    def stat(self):\n",
        "        print(\"Dog\")\n",
        "        super().stat()\n",
        "dog1 = Dog(\"Tommy\")\n",
        "dog1.stat()\n",
        "class Puppy(Dog, Animal):\n",
        "    def __init__(self, name):\n",
        "        super().__init__(name)\n",
        "    def stat(self):\n",
        "        print(\"Puppy\")\n",
        "        super().stat()\n",
        "puppy1 = Puppy(\"Bob\")\n",
        "puppy1.stat()"
      ],
      "metadata": {
        "colab": {
          "base_uri": "https://localhost:8080/"
        },
        "id": "R_psr5UGVI2h",
        "outputId": "3b404c45-5e82-484a-e31f-8f9fe3da6139"
      },
      "execution_count": null,
      "outputs": [
        {
          "output_type": "stream",
          "name": "stdout",
          "text": [
            "Tommy\n",
            "Dog\n",
            "Animal\n",
            "Bob\n",
            "Puppy\n",
            "Dog\n",
            "Animal\n"
          ]
        }
      ]
    },
    {
      "cell_type": "code",
      "source": [
        "# prompt: multi level inheritence\n",
        "\n",
        "class Animal:\n",
        "    def __init__(self, name):\n",
        "        self.name = name\n",
        "        print(self.name)\n",
        "\n",
        "    def stat(self):\n",
        "        print(\"Animal\")\n",
        "\n",
        "class Dog(Animal):\n",
        "    def __init__(self, name):\n",
        "        super().__init__(name)\n",
        "\n",
        "    def stat(self):\n",
        "        print(\"Dog\")\n",
        "        super().stat()\n",
        "\n",
        "class Puppy(Dog): # Inheriting from Dog, which already inherits from Animal\n",
        "    def __init__(self, name):\n",
        "        super().__init__(name)\n",
        "\n",
        "    def stat(self):\n",
        "        print(\"Puppy\")\n",
        "        super().stat()\n",
        "\n",
        "puppy1 = Puppy(\"Bob\")\n",
        "puppy1.stat()"
      ],
      "metadata": {
        "colab": {
          "base_uri": "https://localhost:8080/"
        },
        "id": "0sxZ3XY8cjPM",
        "outputId": "fb5a605f-a66b-402c-bff5-307dc50651dd"
      },
      "execution_count": null,
      "outputs": [
        {
          "output_type": "stream",
          "name": "stdout",
          "text": [
            "Bob\n",
            "Puppy\n",
            "Dog\n",
            "Animal\n"
          ]
        }
      ]
    },
    {
      "cell_type": "code",
      "source": [
        "from os import stat\n",
        "# prompt: single level inheritence\n",
        "\n",
        "class Animal:\n",
        "    def __init__(self, name):\n",
        "        self.name = name\n",
        "        print(self.name)\n",
        "\n",
        "    def stat(self):\n",
        "        print(\"Animal\")\n",
        "\n",
        "class Dog(Animal):\n",
        "    def __init__(self, name):\n",
        "        super().__init__(name)\n",
        "    def stat(self):\n",
        "        print(\"Dog\")\n",
        "        #super().stat()\n",
        "\n",
        "    def s(self):\n",
        "        self.stat()\n",
        "\n",
        "# Example usage (No changes needed here)\n",
        "dog1 = Dog(\"Tommy\")\n",
        "dog1.stat()\n",
        "dog1.s()"
      ],
      "metadata": {
        "colab": {
          "base_uri": "https://localhost:8080/"
        },
        "id": "Ql0jnPIDv93e",
        "outputId": "149db82a-4a28-4bb7-c000-07e5a55fff5d"
      },
      "execution_count": null,
      "outputs": [
        {
          "output_type": "stream",
          "name": "stdout",
          "text": [
            "Tommy\n",
            "Dog\n",
            "Dog\n"
          ]
        }
      ]
    },
    {
      "cell_type": "code",
      "source": [
        "print(1 + 2)\n",
        "print(\"debottam\" + \"kar\")\n",
        "print([1,2,3] + [4,5,6])"
      ],
      "metadata": {
        "id": "1wuWtkHqwP1A",
        "colab": {
          "base_uri": "https://localhost:8080/"
        },
        "outputId": "d0084bb2-d931-4539-c0b6-f98a02cb0f31"
      },
      "execution_count": null,
      "outputs": [
        {
          "output_type": "stream",
          "name": "stdout",
          "text": [
            "3\n",
            "debottamkar\n",
            "[1, 2, 3, 4, 5, 6]\n"
          ]
        }
      ]
    },
    {
      "cell_type": "code",
      "source": [
        "class Circle:\n",
        "    def __init__(self, radius):\n",
        "        self.radius = radius\n",
        "\n",
        "    def area(self):\n",
        "        return 3.14 * self.radius * self.radius\n",
        "\n",
        "    def circumference(self):\n",
        "        return 2 * 3.14 * self.radius\n",
        "\n",
        "circle1 = Circle(5)\n",
        "print(\"Area\", circle1.area())\n",
        "print(\"Cicumference\", circle1.circumference())"
      ],
      "metadata": {
        "colab": {
          "base_uri": "https://localhost:8080/"
        },
        "id": "Zbhd9JVxid0M",
        "outputId": "5cab9cb9-00b7-4f19-a3a5-39d412f3723b"
      },
      "execution_count": null,
      "outputs": [
        {
          "output_type": "stream",
          "name": "stdout",
          "text": [
            "Area 78.5\n",
            "Cicumference 31.400000000000002\n"
          ]
        }
      ]
    },
    {
      "cell_type": "code",
      "source": [
        "class Complex:\n",
        "  def __init__(self, real, imag):\n",
        "    self.real = real\n",
        "    self.imag = imag\n",
        "  def show(self):\n",
        "    print(self.real,\"i\",\"+\", self.imag,\"j\")\n",
        "  def __add__(self, num):\n",
        "    newreal = self.real + num.real\n",
        "    newimag = self.imag + num.imag\n",
        "    return Complex(newreal, newimag)\n",
        "num1 = Complex(5, -6)\n",
        "num2 = Complex(-4, 2)\n",
        "res = num1 + num2\n",
        "num1.show()\n",
        "num2.show()\n",
        "res.show()\n",
        "list_complex = [num1, num2, res]\n",
        "for i in list_complex:\n",
        "  i.show()"
      ],
      "metadata": {
        "colab": {
          "base_uri": "https://localhost:8080/"
        },
        "id": "C4t7M4SZs_VS",
        "outputId": "e4b8877b-70b5-42de-ede1-c0b179acc680"
      },
      "execution_count": null,
      "outputs": [
        {
          "output_type": "stream",
          "name": "stdout",
          "text": [
            "5 i + -6 j\n",
            "-4 i + 2 j\n",
            "1 i + -4 j\n",
            "5 i + -6 j\n",
            "-4 i + 2 j\n",
            "1 i + -4 j\n"
          ]
        }
      ]
    },
    {
      "cell_type": "code",
      "source": [
        "import random\n",
        "answer = random.randint(1, 100)\n",
        "while(True):\n",
        "  number = input(\"Guess the number between 1 to 100: or Quit(Q)\")\n",
        "  if number == \"Q\":\n",
        "    break\n",
        "  if(int(number) == answer):\n",
        "    print(\"-----------Correct-----------\")\n",
        "    break\n",
        "  else:\n",
        "    if int(number) > answer:\n",
        "      print(\"Too high\")\n",
        "    else:\n",
        "      print(\"Too low\")\n",
        "print(\"++++++ Game Over ++++++\")"
      ],
      "metadata": {
        "colab": {
          "base_uri": "https://localhost:8080/"
        },
        "id": "xS01e6qKvAjn",
        "outputId": "989dfc0b-6e50-4321-a43c-bad8e6b18b8e"
      },
      "execution_count": null,
      "outputs": [
        {
          "output_type": "stream",
          "name": "stdout",
          "text": [
            "Guess the number between 1 to 100: or Quit(Q)50\n",
            "Too low\n",
            "Guess the number between 1 to 100: or Quit(Q)90\n",
            "Too low\n",
            "Guess the number between 1 to 100: or Quit(Q)95\n",
            "Too low\n",
            "Guess the number between 1 to 100: or Quit(Q)99\n",
            "Too high\n",
            "Guess the number between 1 to 100: or Quit(Q)97\n",
            "Too low\n",
            "Guess the number between 1 to 100: or Quit(Q)98\n",
            "-----------Correct-----------\n",
            "++++++ Game Over ++++++\n"
          ]
        }
      ]
    },
    {
      "cell_type": "code",
      "source": [
        "import random\n",
        "import string\n",
        "pass_string = string.ascii_letters + string.digits\n",
        "#string.punctuation\n",
        "n = int(input(\"Enter the length of the password: \"))\n",
        "password = \"\"\n",
        "for i in range(n):\n",
        "  password += random.choice(pass_string)\n",
        "print(password)"
      ],
      "metadata": {
        "colab": {
          "base_uri": "https://localhost:8080/"
        },
        "id": "hh6_30WZ0-Yd",
        "outputId": "cd09f43e-18ce-4e18-9707-48b7682cab96"
      },
      "execution_count": null,
      "outputs": [
        {
          "output_type": "stream",
          "name": "stdout",
          "text": [
            "Enter the length of the password: 16\n",
            "P44DsrTslPs8d2KI\n"
          ]
        }
      ]
    },
    {
      "cell_type": "code",
      "source": [
        "try:\n",
        "  a = int(input(\"Enter a number: \"))\n",
        "  c = a % 2\n",
        "  if c == 0:\n",
        "    raise Exception(\"c is zero\")\n",
        "  else:\n",
        "    print(c)\n",
        "except ZeroDivisionError:\n",
        "  print(\"Zero Division Error\")\n",
        "except ValueError:\n",
        "  print(\"Value Error\")\n",
        "except Exception as e:\n",
        "  print(e)\n",
        "finally:\n",
        "  print(\"finally\")"
      ],
      "metadata": {
        "colab": {
          "base_uri": "https://localhost:8080/"
        },
        "id": "EpGuckTL7_O0",
        "outputId": "5ecbed84-1b3b-427a-93a2-bc2d76242246"
      },
      "execution_count": null,
      "outputs": [
        {
          "output_type": "stream",
          "name": "stdout",
          "text": [
            "Enter a number: 6\n",
            "c is zero\n",
            "finally\n"
          ]
        }
      ]
    },
    {
      "cell_type": "code",
      "source": [
        "list1 = [i*i for i in range(1,11)]\n",
        "print(list1)\n",
        "even = [i for i in list1 if i % 2 == 0]\n",
        "print(even)\n",
        "odd = [i for i in list1 if i % 2 != 0]\n",
        "print(odd)"
      ],
      "metadata": {
        "colab": {
          "base_uri": "https://localhost:8080/"
        },
        "id": "vo6tbUcj8XpM",
        "outputId": "631c5008-0cba-4f26-bd67-535940fdc41f"
      },
      "execution_count": null,
      "outputs": [
        {
          "output_type": "stream",
          "name": "stdout",
          "text": [
            "[1, 4, 9, 16, 25, 36, 49, 64, 81, 100]\n",
            "[4, 16, 36, 64, 100]\n",
            "[1, 9, 25, 49, 81]\n"
          ]
        }
      ]
    },
    {
      "cell_type": "code",
      "source": [
        "def square(i):\n",
        "  return i * i\n",
        "list1= [7,8,2,3,5,10,13]\n",
        "sq = list(map(square, list1))\n",
        "print(sq)"
      ],
      "metadata": {
        "colab": {
          "base_uri": "https://localhost:8080/"
        },
        "id": "6U0FQ98B9_1y",
        "outputId": "20a61568-bc0b-4208-e951-9930e7d39b6a"
      },
      "execution_count": null,
      "outputs": [
        {
          "output_type": "stream",
          "name": "stdout",
          "text": [
            "[49, 64, 4, 9, 25, 100, 169]\n"
          ]
        }
      ]
    },
    {
      "cell_type": "code",
      "source": [
        "def even(i):\n",
        "  return i % 2 == 0\n",
        "list1= [7,8,2,3,5,10,13]\n",
        "even_list = list(filter(even, list1))\n",
        "print(even_list)"
      ],
      "metadata": {
        "colab": {
          "base_uri": "https://localhost:8080/"
        },
        "id": "hWVs44Ty-ssY",
        "outputId": "867b9783-2171-45d9-e39a-390dd681dec7"
      },
      "execution_count": null,
      "outputs": [
        {
          "output_type": "stream",
          "name": "stdout",
          "text": [
            "[8, 2, 10]\n"
          ]
        }
      ]
    },
    {
      "cell_type": "code",
      "source": [
        "from functools import reduce\n",
        "list1 = [1,2,3,4,5]\n",
        "sum = reduce(lambda x, y: x * y, list1)\n",
        "print(sum)"
      ],
      "metadata": {
        "colab": {
          "base_uri": "https://localhost:8080/"
        },
        "id": "5vThUzGK_BRr",
        "outputId": "72d7c9d7-9e46-49e1-b90c-e68ad6161465"
      },
      "execution_count": null,
      "outputs": [
        {
          "output_type": "stream",
          "name": "stdout",
          "text": [
            "120\n"
          ]
        }
      ]
    },
    {
      "cell_type": "code",
      "source": [
        "double = lambda x: x * 2\n",
        "print(double(5))\n",
        "add = lambda x, y, z : x + y + z\n",
        "print(add(1,2,3))\n",
        "max = lambda a, b : a if a > b else b\n",
        "print(max(1,2))\n",
        "min = lambda a, b : a if a < b else b\n",
        "print(min(1,2))"
      ],
      "metadata": {
        "colab": {
          "base_uri": "https://localhost:8080/"
        },
        "id": "LYFpu8OGA7gO",
        "outputId": "a2b12082-0baf-4b6f-f4e3-853dc1c66cad"
      },
      "execution_count": null,
      "outputs": [
        {
          "output_type": "stream",
          "name": "stdout",
          "text": [
            "10\n",
            "6\n",
            "2\n",
            "1\n"
          ]
        }
      ]
    },
    {
      "cell_type": "code",
      "source": [
        "#ROCK-PAPER-SCISSOR\n",
        "import random\n",
        "\n",
        "pc_score = 0\n",
        "player_score = 0\n",
        "\n",
        "def pcmove_gen():\n",
        "  pc_moves = [\"rock\", \"paper\", \"scissor\"]\n",
        "  return random.choice(pc_moves)\n",
        "\n",
        "print(\"......Rock(r) Paper(p) Scissor(s) Quit(q)......\")\n",
        "\n",
        "while(True):\n",
        "\n",
        "  player_move = input(\"Enter your move:\")\n",
        "\n",
        "  if player_move == \"q\":\n",
        "    print(\"......Game Over......\")\n",
        "    break\n",
        "  elif player_move == \"r\":\n",
        "    player_move = \"rock\"\n",
        "  elif player_move == \"p\":\n",
        "    player_move = \"paper\"\n",
        "  elif player_move == \"s\":\n",
        "    player_move = \"scissor\"\n",
        "  else:\n",
        "    print(\"Invalid move\")\n",
        "    continue\n",
        "\n",
        "  pc_move = pcmove_gen()\n",
        "  print(\"Player move:\", player_move)\n",
        "  print(\"PC move:\", pc_move)\n",
        "\n",
        "  if player_move == pc_move:\n",
        "    print(\"Draw\")\n",
        "  elif player_move == \"rock\" and pc_move == \"scissor\":\n",
        "    player_score += 1\n",
        "    print(\"Player wins\")\n",
        "  elif player_move == \"rock\" and pc_move == \"paper\":\n",
        "    pc_score += 1\n",
        "    print(\"PC wins\")\n",
        "  elif player_move == \"paper\" and pc_move == \"rock\":\n",
        "    player_score += 1\n",
        "    print(\"Player wins\")\n",
        "  elif player_move == \"paper\" and pc_move == \"scissor\":\n",
        "    pc_score += 1\n",
        "    print(\"PC wins\")\n",
        "  elif player_move == \"scissor\" and pc_move == \"paper\":\n",
        "    player_score += 1\n",
        "    print(\"Player wins\")\n",
        "  elif player_move == \"scissor\" and pc_move == \"rock\":\n",
        "    pc_score += 1\n",
        "    print(\"PC wins\")\n",
        "\n",
        "print(\"Player score:\", player_score)\n",
        "print(\"PC score:\", pc_score)"
      ],
      "metadata": {
        "id": "qzngNXWiC6dm",
        "colab": {
          "base_uri": "https://localhost:8080/"
        },
        "outputId": "c570373f-02c7-4d56-c453-d7495ca4da81"
      },
      "execution_count": null,
      "outputs": [
        {
          "output_type": "stream",
          "name": "stdout",
          "text": [
            "......Rock(r) Paper(p) Scissor(s) Quit(q)......\n",
            "Enter your move:r\n",
            "Player move: rock\n",
            "PC move: rock\n",
            "Draw\n",
            "Enter your move:p\n",
            "Player move: paper\n",
            "PC move: scissor\n",
            "PC wins\n",
            "Enter your move:s\n",
            "Player move: scissor\n",
            "PC move: scissor\n",
            "Draw\n",
            "Enter your move:s\n",
            "Player move: scissor\n",
            "PC move: scissor\n",
            "Draw\n",
            "Enter your move:p\n",
            "Player move: paper\n",
            "PC move: paper\n",
            "Draw\n",
            "Enter your move:s\n",
            "Player move: scissor\n",
            "PC move: scissor\n",
            "Draw\n",
            "Enter your move:s\n",
            "Player move: scissor\n",
            "PC move: paper\n",
            "Player wins\n",
            "Enter your move:r\n",
            "Player move: rock\n",
            "PC move: paper\n",
            "PC wins\n",
            "Enter your move:p\n",
            "Player move: paper\n",
            "PC move: scissor\n",
            "PC wins\n",
            "Enter your move:s\n",
            "Player move: scissor\n",
            "PC move: paper\n",
            "Player wins\n",
            "Enter your move:s\n",
            "Player move: scissor\n",
            "PC move: paper\n",
            "Player wins\n",
            "Enter your move:q\n",
            "......Game Over......\n",
            "Player score: 3\n",
            "PC score: 3\n"
          ]
        }
      ]
    },
    {
      "cell_type": "code",
      "source": [
        "import matplotlib.pyplot as plt\n",
        "a1 = [1,2,3,4,5,6]\n",
        "b1 = [9,12,7,15,13,17]\n",
        "b2 = [4,8,12,10,11,18]\n",
        "plt.plot(a1,b1,color=\"red\")\n",
        "plt.plot(a1,b2,color=\"green\")\n",
        "plt.title(\"RED-Team 'A'  GREEN-Team 'B'\")\n",
        "plt.xlabel(\"X-axis\")\n",
        "plt.ylabel(\"Y-axis\")\n",
        "plt.show()"
      ],
      "metadata": {
        "id": "we2lIF2Iq55a",
        "colab": {
          "base_uri": "https://localhost:8080/",
          "height": 472
        },
        "outputId": "5c6bf02a-3721-4e94-d5c7-2c7ac6cfc255"
      },
      "execution_count": null,
      "outputs": [
        {
          "output_type": "display_data",
          "data": {
            "text/plain": [
              "<Figure size 640x480 with 1 Axes>"
            ],
            "image/png": "[encoded data removed]"
          },
          "metadata": {}
        }
      ]
    },
    {
      "cell_type": "code",
      "source": [
        "import matplotlib.pyplot as plt\n",
        "a1 = [26,24,11,9,17,13]\n",
        "plt.title(\"Pie Chart\")\n",
        "print(sum(a1))\n",
        "plt.pie(a1,labels = ['A', 'B', 'C', 'D', 'E', 'F'], autopct=\"%.1f%%\")\n",
        "plt.show()"
      ],
      "metadata": {
        "colab": {
          "base_uri": "https://localhost:8080/",
          "height": 446
        },
        "id": "H6DiLwpsgrOV",
        "outputId": "a0d6e1d0-ec98-4047-c2a8-24dc2b12ade7"
      },
      "execution_count": null,
      "outputs": [
        {
          "output_type": "stream",
          "name": "stdout",
          "text": [
            "100\n"
          ]
        },
        {
          "output_type": "display_data",
          "data": {
            "text/plain": [
              "<Figure size 640x480 with 1 Axes>"
            ],
            "image/png": "[encoded data removed]"
          },
          "metadata": {}
        }
      ]
    },
    {
      "cell_type": "code",
      "source": [
        "# prompt: bar chat\n",
        "\n",
        "import matplotlib.pyplot as plt\n",
        "\n",
        "# Sample data (replace with your actual data)\n",
        "categories = ['A', 'B', 'C', 'D', 'E']\n",
        "values = [25, 40, 15, 10, 10]\n",
        "\n",
        "plt.bar(categories, values)\n",
        "plt.xlabel(\"Categories\")\n",
        "plt.ylabel(\"Values\")\n",
        "plt.title(\"Bar Chart Example\")\n",
        "plt.show()"
      ],
      "metadata": {
        "colab": {
          "base_uri": "https://localhost:8080/",
          "height": 472
        },
        "id": "MEDF78gJqOlU",
        "outputId": "0b715d82-576e-4a65-9f9c-3c08b2924654"
      },
      "execution_count": null,
      "outputs": [
        {
          "output_type": "display_data",
          "data": {
            "text/plain": [
              "<Figure size 640x480 with 1 Axes>"
            ],
            "image/png": "[encoded data removed]"
          },
          "metadata": {}
        }
      ]
    },
    {
      "cell_type": "code",
      "source": [
        "import matplotlib.pyplot as plt\n",
        "import numpy as np\n",
        "\n",
        "def plot_circles(n, radius=1, center_distance=1.5):\n",
        "    angles = np.linspace(0, 2 * np.pi, n, endpoint=False)\n",
        "    centers = [(np.cos(a) * center_distance, np.sin(a) * center_distance) for a in angles]\n",
        "\n",
        "    fig, ax = plt.subplots(figsize=(6, 6))\n",
        "    for cx, cy in centers:\n",
        "        circle = plt.Circle((cx, cy), radius, fill=False, edgecolor='blue')\n",
        "        ax.add_artist(circle)\n",
        "\n",
        "    ax.set_aspect('equal', adjustable='datalim')\n",
        "    plt.xlim(-n, n)\n",
        "    plt.ylim(-n, n)\n",
        "    plt.title(f\"{n} Mutually Intersecting Circles\")\n",
        "    plt.show()\n",
        "\n",
        "# Example: Plot 6 mutually intersecting circles\n",
        "plot_circles(6)\n"
      ],
      "metadata": {
        "id": "M1nIoC7IP-v9",
        "outputId": "548d220f-1f8c-4c11-a86a-4c1339341fb6",
        "colab": {
          "base_uri": "https://localhost:8080/",
          "height": 565
        }
      },
      "execution_count": null,
      "outputs": [
        {
          "output_type": "display_data",
          "data": {
            "text/plain": [
              "<Figure size 600x600 with 1 Axes>"
            ],
            "image/png": "[encoded data removed]"
          },
          "metadata": {}
        }
      ]
    },
    {
      "cell_type": "code",
      "source": [
        "matrix = [[1,2,3],[4,5,6],[7,8,9]]\n",
        "print(matrix)"
      ],
      "metadata": {
        "id": "gDwFE2nmvwPD",
        "colab": {
          "base_uri": "https://localhost:8080/"
        },
        "outputId": "c3c86b3d-98eb-4bad-8b6c-3999aaef8362"
      },
      "execution_count": null,
      "outputs": [
        {
          "output_type": "stream",
          "name": "stdout",
          "text": [
            "[[1, 2, 3], [4, 5, 6], [7, 8, 9]]\n"
          ]
        }
      ]
    },
    {
      "cell_type": "code",
      "source": [
        "matrix = []\n",
        "for i in range(3):\n",
        "  matrix.append([])\n",
        "  for j in range(3):\n",
        "    matrix[i].append(0)\n",
        "print(matrix)"
      ],
      "metadata": {
        "colab": {
          "base_uri": "https://localhost:8080/"
        },
        "id": "VpfqdjTyHmDh",
        "outputId": "c17505b3-a4c4-4e59-f27a-f3829a7f3bbd"
      },
      "execution_count": null,
      "outputs": [
        {
          "output_type": "stream",
          "name": "stdout",
          "text": [
            "[[0, 0, 0], [0, 0, 0], [0, 0, 0]]\n"
          ]
        }
      ]
    },
    {
      "cell_type": "code",
      "source": [
        "def mergeTwoLists(list1, list2):\n",
        "    list1.sort()\n",
        "    list2.sort()\n",
        "    list3 = []\n",
        "    list3.extend(list1)\n",
        "    list3.extend(list2)\n",
        "    list3.sort()\n",
        "    return list3\n",
        "mergeTwoLists([1,2,3],[1,4,2,3])"
      ],
      "metadata": {
        "colab": {
          "base_uri": "https://localhost:8080/"
        },
        "id": "gxRnq3kguowq",
        "outputId": "c2a6d79c-7c77-4a96-c566-2030e6279dcd"
      },
      "execution_count": null,
      "outputs": [
        {
          "output_type": "execute_result",
          "data": {
            "text/plain": [
              "[1, 1, 2, 2, 3, 3, 4]"
            ]
          },
          "metadata": {},
          "execution_count": 23
        }
      ]
    },
    {
      "cell_type": "code",
      "source": [
        "set1 = set()\n",
        "l = [0,0,1,1,1,2,2,3,3,4]\n",
        "for i in l:\n",
        "  set1.add(i)\n",
        "print(set1)\n",
        "l = list(set1)\n",
        "print(l)"
      ],
      "metadata": {
        "id": "Sp-WLZh-veMZ",
        "colab": {
          "base_uri": "https://localhost:8080/"
        },
        "outputId": "e96d4759-3cca-4713-c2b1-ec6bcdc1c00e"
      },
      "execution_count": null,
      "outputs": [
        {
          "output_type": "stream",
          "name": "stdout",
          "text": [
            "{0, 1, 2, 3, 4}\n",
            "[0, 1, 2, 3, 4]\n"
          ]
        }
      ]
    },
    {
      "cell_type": "code",
      "source": [
        "l = [6,5,5]\n",
        "l1 = []\n",
        "for i in l:\n",
        "  l1.append(l.count(i))\n",
        "  print(l1)"
      ],
      "metadata": {
        "colab": {
          "base_uri": "https://localhost:8080/"
        },
        "id": "OBLp22t_-Qvl",
        "outputId": "271934e5-a37f-464a-8750-958a3285f903"
      },
      "execution_count": null,
      "outputs": [
        {
          "output_type": "stream",
          "name": "stdout",
          "text": [
            "[1]\n",
            "[1, 2]\n",
            "[1, 2, 2]\n"
          ]
        }
      ]
    },
    {
      "cell_type": "code",
      "source": [
        "import math\n",
        "print(math.log(536870912,2))\n",
        "print(math.log(536870912,2).is_integer())"
      ],
      "metadata": {
        "id": "laV394R0F42r",
        "colab": {
          "base_uri": "https://localhost:8080/"
        },
        "outputId": "19361637-9b88-4f46-a9c5-cc45162dc79e"
      },
      "execution_count": null,
      "outputs": [
        {
          "output_type": "stream",
          "name": "stdout",
          "text": [
            "29.000000000000004\n",
            "False\n"
          ]
        }
      ]
    },
    {
      "cell_type": "code",
      "source": [
        "n = 38\n",
        "sum = 1 + (n - 1) % 9\n",
        "print(sum)"
      ],
      "metadata": {
        "id": "sb9-vECFMnmU",
        "colab": {
          "base_uri": "https://localhost:8080/"
        },
        "outputId": "d3cd64c4-d0eb-4c7a-b733-30a938bdd0a4"
      },
      "execution_count": null,
      "outputs": [
        {
          "output_type": "stream",
          "name": "stdout",
          "text": [
            "2\n"
          ]
        }
      ]
    },
    {
      "cell_type": "code",
      "source": [
        "l = [[1,2,3],[4,5,6],[7,8,9]]\n",
        "l.reverse()\n",
        "print(l)"
      ],
      "metadata": {
        "colab": {
          "base_uri": "https://localhost:8080/"
        },
        "id": "LViP_a2UfQRc",
        "outputId": "3568fd3e-a24f-4d07-bc3f-709ea5e170b4"
      },
      "execution_count": null,
      "outputs": [
        {
          "output_type": "stream",
          "name": "stdout",
          "text": [
            "[[7, 8, 9], [4, 5, 6], [1, 2, 3]]\n"
          ]
        }
      ]
    },
    {
      "cell_type": "code",
      "source": [
        "class Solution(object):\n",
        "    def rotate(self, matrix):\n",
        "        \"\"\"\n",
        "        :type matrix: List[List[int]]\n",
        "        :rtype: None Do not return anything, modify matrix in-place instead.\n",
        "        \"\"\"\n",
        "        for i in range(len(matrix)):\n",
        "            for j in range (len(matrix[i])):\n",
        "                print(matrix[i][j],matrix[j][i])\n",
        "                if i < j:\n",
        "                   matrix[j][i], matrix[i][j] = matrix[i][j], matrix[j][i]\n",
        "        print(matrix)\n",
        "        for i in range(len(matrix)):\n",
        "            matrix[i].reverse()\n",
        "        return matrix\n",
        "matrix = [[1,2,3],[4,5,6],[7,8,9]]\n",
        "s = Solution()\n",
        "s.rotate(matrix)"
      ],
      "metadata": {
        "colab": {
          "base_uri": "https://localhost:8080/"
        },
        "id": "9YWtsr6kNfU2",
        "outputId": "9be0f4c5-a123-4787-8dfd-dfddd49a99c3"
      },
      "execution_count": null,
      "outputs": [
        {
          "output_type": "stream",
          "name": "stdout",
          "text": [
            "1 1\n",
            "2 4\n",
            "3 7\n",
            "2 4\n",
            "5 5\n",
            "6 8\n",
            "3 7\n",
            "6 8\n",
            "9 9\n",
            "[[1, 4, 7], [2, 5, 8], [3, 6, 9]]\n"
          ]
        },
        {
          "output_type": "execute_result",
          "data": {
            "text/plain": [
              "[[7, 4, 1], [8, 5, 2], [9, 6, 3]]"
            ]
          },
          "metadata": {},
          "execution_count": 8
        }
      ]
    },
    {
      "cell_type": "code",
      "source": [
        "def thousandSeparator(n):\n",
        "        \"\"\"\n",
        "        :type n: int\n",
        "        :rtype: str\n",
        "        \"\"\"\n",
        "        m = n\n",
        "        string = str(n)\n",
        "        if len(string) == 3:\n",
        "            return string\n",
        "        else:\n",
        "            m = m / 1000\n",
        "            return str(m)\n",
        "print(thousandSeparator(1234))"
      ],
      "metadata": {
        "colab": {
          "base_uri": "https://localhost:8080/"
        },
        "id": "NvjZDiU66Qdl",
        "outputId": "d3045488-331c-4a1d-9339-e9bf4c38b26f"
      },
      "execution_count": null,
      "outputs": [
        {
          "output_type": "stream",
          "name": "stdout",
          "text": [
            "1.234\n"
          ]
        }
      ]
    },
    {
      "cell_type": "code",
      "source": [
        "n = 521\n",
        "digit = 0\n",
        "sum = 0\n",
        "flag = 0\n",
        "while n > 0:\n",
        "  digit = n % 10\n",
        "  n = n //10\n",
        "  if flag == 0:\n",
        "    sum += digit\n",
        "    flag = 1\n",
        "  else:\n",
        "    sum -= digit\n",
        "    flag = 0\n",
        "print(sum)"
      ],
      "metadata": {
        "id": "iPsiyvQb62mk",
        "colab": {
          "base_uri": "https://localhost:8080/"
        },
        "outputId": "b854c419-810e-43a6-e8c4-f8f01610688e"
      },
      "execution_count": null,
      "outputs": [
        {
          "output_type": "stream",
          "name": "stdout",
          "text": [
            "4\n"
          ]
        }
      ]
    },
    {
      "cell_type": "code",
      "source": [
        "n = 16 ** 0.5\n",
        "print(n)\n",
        "print(type(n))"
      ],
      "metadata": {
        "id": "JMcbIBLpDoSW",
        "colab": {
          "base_uri": "https://localhost:8080/"
        },
        "outputId": "536ab79e-4463-4428-8631-dbf5cd16b529"
      },
      "execution_count": null,
      "outputs": [
        {
          "output_type": "stream",
          "name": "stdout",
          "text": [
            "4.0\n",
            "<class 'float'>\n"
          ]
        }
      ]
    },
    {
      "cell_type": "code",
      "source": [
        "# prompt: set operations\n",
        "\n",
        "set1 = {1, 2, 3}\n",
        "set2 = {3, 4, 5}\n",
        "\n",
        "# Union\n",
        "union_set = set1 | set2  # or set1.union(set2)\n",
        "print(\"Union:\", union_set)\n",
        "\n",
        "# Intersection\n",
        "intersection_set = set1 & set2  # or set1.intersection(set2)\n",
        "print(\"Intersection:\", intersection_set)\n",
        "\n",
        "# Difference (elements in set1 but not in set2)\n",
        "difference_set = set1 - set2  # or set1.difference(set2)\n",
        "print(\"Difference (set1 - set2):\", difference_set)\n",
        "\n",
        "# Symmetric Difference (elements in either set1 or set2, but not both)\n",
        "symmetric_difference_set = set1 ^ set2  # or set1.symmetric_difference(set2)\n",
        "print(\"Symmetric Difference:\", symmetric_difference_set)"
      ],
      "metadata": {
        "id": "jksmNGdvliII"
      },
      "execution_count": null,
      "outputs": []
    },
    {
      "cell_type": "code",
      "source": [
        "def thirdMax(self, nums):\n",
        "        \"\"\"\n",
        "        :type nums: List[int]\n",
        "        :rtype: int\n",
        "        \"\"\"\n",
        "        nums.sort(reverse = True)\n",
        "        return nums[2]"
      ],
      "metadata": {
        "id": "1JIeP0DiXV5R"
      },
      "execution_count": null,
      "outputs": []
    },
    {
      "cell_type": "code",
      "source": [
        "# prompt: inbuilt functions in ditionary\n",
        "\n",
        "# Dictionary built-in functions demonstrated in the provided code:\n",
        "\n",
        "# Accessing elements:\n",
        "# details[\"name\"]  # Accessing value using key\n",
        "# details.get(\"name\")  # Accessing value using key, returns None if key not found\n",
        "\n",
        "# Modifying elements:\n",
        "# details[\"name\"] = \"Debottam Kar\"  # Updating a value\n",
        "# details.update({\"name\": \"debottam kar\"}) # Updates an existing key or adds a new key-value pair\n",
        "\n",
        "# Removing elements:\n",
        "# details.pop(\"name\") # Removes and returns the value associated with the specified key\n",
        "# details.popitem() # Removes and returns an arbitrary (key, value) pair from the dictionary\n",
        "# details.clear() # Removes all items from the dictionary\n",
        "\n",
        "# Other useful methods:\n",
        "# details.keys()  # Returns a view of all keys\n",
        "# details.values()  # Returns a view of all values\n",
        "# details.items()  # Returns a view of all (key, value) pairs\n",
        "# len(details)  # Returns the number of items in the dictionary"
      ],
      "metadata": {
        "id": "7Th8TT08RZQd"
      },
      "execution_count": null,
      "outputs": []
    },
    {
      "cell_type": "code",
      "source": [
        "l1 = [6,6,6,1,1,1,2,2,3,3,4,1,1,3,2,2,5,5,3]\n",
        "obj = {}\n",
        "for i in l1:\n",
        "  obj.update({i:l1.count(i)})\n",
        "print(obj)\n",
        "val = list(obj.items())\n",
        "print(val)\n",
        "l = []\n",
        "for i in val:\n",
        "  l.append(i[::-1])\n",
        "print(l)\n",
        "l.sort(reverse = True)\n",
        "print(l)\n",
        "res = []\n",
        "for i in l:\n",
        "  res.append(i[1])\n",
        "print(res)\n",
        "r = []\n",
        "k = 2\n",
        "for i in range(1, k+1):\n",
        "  r.append(res[i-1])\n",
        "print(r)"
      ],
      "metadata": {
        "colab": {
          "base_uri": "https://localhost:8080/"
        },
        "id": "2qPtACa5Rx74",
        "outputId": "8765cdc9-587d-4a0f-decb-379a46c63a75"
      },
      "execution_count": null,
      "outputs": [
        {
          "output_type": "stream",
          "name": "stdout",
          "text": [
            "{6: 3, 1: 5, 2: 4, 3: 4, 4: 1, 5: 2}\n",
            "[(6, 3), (1, 5), (2, 4), (3, 4), (4, 1), (5, 2)]\n",
            "[(3, 6), (5, 1), (4, 2), (4, 3), (1, 4), (2, 5)]\n",
            "[(5, 1), (4, 3), (4, 2), (3, 6), (2, 5), (1, 4)]\n",
            "[1, 3, 2, 6, 5, 4]\n",
            "[1, 3]\n"
          ]
        }
      ]
    },
    {
      "cell_type": "code",
      "source": [
        "l = ['a','c','d','b']\n",
        "l.sort()\n",
        "print(l)"
      ],
      "metadata": {
        "colab": {
          "base_uri": "https://localhost:8080/"
        },
        "id": "UzotAIc5akUB",
        "outputId": "553a0281-9c0b-4b80-c6ca-5e0ced40035d"
      },
      "execution_count": null,
      "outputs": [
        {
          "output_type": "stream",
          "name": "stdout",
          "text": [
            "['a', 'b', 'c', 'd']\n"
          ]
        }
      ]
    },
    {
      "cell_type": "code",
      "source": [],
      "metadata": {
        "id": "2VROkcWkbhXy"
      },
      "execution_count": null,
      "outputs": []
    }
  ]
}