{
 "cells": [
  {
   "cell_type": "code",
   "execution_count": 1,
   "id": "9029223d",
   "metadata": {},
   "outputs": [
    {
     "name": "stdout",
     "output_type": "stream",
     "text": [
      "You are allowed to Drive the car.\n"
     ]
    }
   ],
   "source": [
    "# Traditional if else\n",
    "age = 22\n",
    "if age > 18:\n",
    "    print(\"You are allowed to Drive the car.\")\n",
    "elif age == 100:\n",
    "    print(\"WTF!\")\n",
    "else:\n",
    "    print(\"You are not allowed to Drive the car.\")"
   ]
  },
  {
   "cell_type": "code",
   "execution_count": 2,
   "id": "e23d7859",
   "metadata": {},
   "outputs": [
    {
     "name": "stdout",
     "output_type": "stream",
     "text": [
      "Three\n"
     ]
    }
   ],
   "source": [
    "# New Switch case like syntax\n",
    "choice = 3\n",
    "\n",
    "match choice:\n",
    "    case 1:\n",
    "        print(\"One\")\n",
    "    case 2:\n",
    "        print(\"Two\")\n",
    "    case 3:\n",
    "        print(\"Three\")\n",
    "    case _:\n",
    "        print(\"Invalid\")"
   ]
  },
  {
   "cell_type": "code",
   "execution_count": 3,
   "id": "2b835cb4",
   "metadata": {},
   "outputs": [
    {
     "name": "stdout",
     "output_type": "stream",
     "text": [
      "1749064735.1823297\n",
      "Thu Jun  5 00:48:55 2025\n",
      "2025-06-05 00:48:55.182329\n"
     ]
    }
   ],
   "source": [
    "import time\n",
    "from datetime import datetime\n",
    "print(time.time())\n",
    "print(time.ctime())\n",
    "print(datetime.now())"
   ]
  },
  {
   "cell_type": "code",
   "execution_count": 4,
   "id": "df8042b5",
   "metadata": {},
   "outputs": [
    {
     "name": "stdout",
     "output_type": "stream",
     "text": [
      "ik\n"
     ]
    }
   ],
   "source": [
    "bio = input(\"Enter some bio: \")\n",
    "print(bio)"
   ]
  }
 ],
 "metadata": {
  "kernelspec": {
   "display_name": "Python 3",
   "language": "python",
   "name": "python3"
  },
  "language_info": {
   "codemirror_mode": {
    "name": "ipython",
    "version": 3
   },
   "file_extension": ".py",
   "mimetype": "text/x-python",
   "name": "python",
   "nbconvert_exporter": "python",
   "pygments_lexer": "ipython3",
   "version": "3.12.10"
  }
 },
 "nbformat": 4,
 "nbformat_minor": 5
}
